{
 "cells": [
  {
   "cell_type": "markdown",
   "id": "ad25efdf",
   "metadata": {},
   "source": [
    "# Step 1. Importing Libraries and Getting the Data"
   ]
  },
  {
   "cell_type": "code",
   "execution_count": 1,
   "id": "307dff0d",
   "metadata": {},
   "outputs": [],
   "source": [
    "#Importing Libraries\n",
    "import numpy as np\n",
    "import pandas as pd\n",
    "import seaborn as sns\n",
    "import matplotlib.pyplot as plt\n",
    "from sklearn.model_selection import train_test_split\n",
    "from sklearn.linear_model import LogisticRegression\n",
    "from sklearn.metrics import confusion_matrix,accuracy_score,plot_confusion_matrix\n",
    "from sklearn.neighbors import KNeighborsClassifier\n",
    "from sklearn.model_selection import cross_val_score\n",
    "from sklearn.ensemble import RandomForestClassifier\n",
    "from sklearn.preprocessing import LabelEncoder\n",
    "from sklearn.tree import DecisionTreeClassifier\n",
    "from sklearn.naive_bayes import GaussianNB\n",
    "from sklearn.svm import SVC\n",
    "from sklearn.model_selection import GridSearchCV\n",
    "import warnings\n",
    "warnings.simplefilter(action='ignore')"
   ]
  },
  {
   "cell_type": "code",
   "execution_count": 2,
   "id": "fef297eb",
   "metadata": {},
   "outputs": [
    {
     "name": "stdout",
     "output_type": "stream",
     "text": [
      "(32561, 15)\n"
     ]
    },
    {
     "data": {
      "text/html": [
       "<div>\n",
       "<style scoped>\n",
       "    .dataframe tbody tr th:only-of-type {\n",
       "        vertical-align: middle;\n",
       "    }\n",
       "\n",
       "    .dataframe tbody tr th {\n",
       "        vertical-align: top;\n",
       "    }\n",
       "\n",
       "    .dataframe thead th {\n",
       "        text-align: right;\n",
       "    }\n",
       "</style>\n",
       "<table border=\"1\" class=\"dataframe\">\n",
       "  <thead>\n",
       "    <tr style=\"text-align: right;\">\n",
       "      <th></th>\n",
       "      <th>age</th>\n",
       "      <th>workclass</th>\n",
       "      <th>fnlwgt</th>\n",
       "      <th>education</th>\n",
       "      <th>education.num</th>\n",
       "      <th>marital.status</th>\n",
       "      <th>occupation</th>\n",
       "      <th>relationship</th>\n",
       "      <th>race</th>\n",
       "      <th>sex</th>\n",
       "      <th>capital.gain</th>\n",
       "      <th>capital.loss</th>\n",
       "      <th>hours.per.week</th>\n",
       "      <th>native.country</th>\n",
       "      <th>income</th>\n",
       "    </tr>\n",
       "  </thead>\n",
       "  <tbody>\n",
       "    <tr>\n",
       "      <th>0</th>\n",
       "      <td>90</td>\n",
       "      <td>?</td>\n",
       "      <td>77053</td>\n",
       "      <td>HS-grad</td>\n",
       "      <td>9</td>\n",
       "      <td>Widowed</td>\n",
       "      <td>?</td>\n",
       "      <td>Not-in-family</td>\n",
       "      <td>White</td>\n",
       "      <td>Female</td>\n",
       "      <td>0</td>\n",
       "      <td>4356</td>\n",
       "      <td>40</td>\n",
       "      <td>United-States</td>\n",
       "      <td>&lt;=50K</td>\n",
       "    </tr>\n",
       "    <tr>\n",
       "      <th>1</th>\n",
       "      <td>82</td>\n",
       "      <td>Private</td>\n",
       "      <td>132870</td>\n",
       "      <td>HS-grad</td>\n",
       "      <td>9</td>\n",
       "      <td>Widowed</td>\n",
       "      <td>Exec-managerial</td>\n",
       "      <td>Not-in-family</td>\n",
       "      <td>White</td>\n",
       "      <td>Female</td>\n",
       "      <td>0</td>\n",
       "      <td>4356</td>\n",
       "      <td>18</td>\n",
       "      <td>United-States</td>\n",
       "      <td>&lt;=50K</td>\n",
       "    </tr>\n",
       "    <tr>\n",
       "      <th>2</th>\n",
       "      <td>66</td>\n",
       "      <td>?</td>\n",
       "      <td>186061</td>\n",
       "      <td>Some-college</td>\n",
       "      <td>10</td>\n",
       "      <td>Widowed</td>\n",
       "      <td>?</td>\n",
       "      <td>Unmarried</td>\n",
       "      <td>Black</td>\n",
       "      <td>Female</td>\n",
       "      <td>0</td>\n",
       "      <td>4356</td>\n",
       "      <td>40</td>\n",
       "      <td>United-States</td>\n",
       "      <td>&lt;=50K</td>\n",
       "    </tr>\n",
       "    <tr>\n",
       "      <th>3</th>\n",
       "      <td>54</td>\n",
       "      <td>Private</td>\n",
       "      <td>140359</td>\n",
       "      <td>7th-8th</td>\n",
       "      <td>4</td>\n",
       "      <td>Divorced</td>\n",
       "      <td>Machine-op-inspct</td>\n",
       "      <td>Unmarried</td>\n",
       "      <td>White</td>\n",
       "      <td>Female</td>\n",
       "      <td>0</td>\n",
       "      <td>3900</td>\n",
       "      <td>40</td>\n",
       "      <td>United-States</td>\n",
       "      <td>&lt;=50K</td>\n",
       "    </tr>\n",
       "    <tr>\n",
       "      <th>4</th>\n",
       "      <td>41</td>\n",
       "      <td>Private</td>\n",
       "      <td>264663</td>\n",
       "      <td>Some-college</td>\n",
       "      <td>10</td>\n",
       "      <td>Separated</td>\n",
       "      <td>Prof-specialty</td>\n",
       "      <td>Own-child</td>\n",
       "      <td>White</td>\n",
       "      <td>Female</td>\n",
       "      <td>0</td>\n",
       "      <td>3900</td>\n",
       "      <td>40</td>\n",
       "      <td>United-States</td>\n",
       "      <td>&lt;=50K</td>\n",
       "    </tr>\n",
       "  </tbody>\n",
       "</table>\n",
       "</div>"
      ],
      "text/plain": [
       "   age workclass  fnlwgt     education  education.num marital.status  \\\n",
       "0   90         ?   77053       HS-grad              9        Widowed   \n",
       "1   82   Private  132870       HS-grad              9        Widowed   \n",
       "2   66         ?  186061  Some-college             10        Widowed   \n",
       "3   54   Private  140359       7th-8th              4       Divorced   \n",
       "4   41   Private  264663  Some-college             10      Separated   \n",
       "\n",
       "          occupation   relationship   race     sex  capital.gain  \\\n",
       "0                  ?  Not-in-family  White  Female             0   \n",
       "1    Exec-managerial  Not-in-family  White  Female             0   \n",
       "2                  ?      Unmarried  Black  Female             0   \n",
       "3  Machine-op-inspct      Unmarried  White  Female             0   \n",
       "4     Prof-specialty      Own-child  White  Female             0   \n",
       "\n",
       "   capital.loss  hours.per.week native.country income  \n",
       "0          4356              40  United-States  <=50K  \n",
       "1          4356              18  United-States  <=50K  \n",
       "2          4356              40  United-States  <=50K  \n",
       "3          3900              40  United-States  <=50K  \n",
       "4          3900              40  United-States  <=50K  "
      ]
     },
     "execution_count": 2,
     "metadata": {},
     "output_type": "execute_result"
    }
   ],
   "source": [
    "# Data Importing\n",
    "df = pd.read_csv(\"adult.csv\")\n",
    "print(df.shape)\n",
    "df.head()"
   ]
  },
  {
   "cell_type": "code",
   "execution_count": 3,
   "id": "d1962b3c",
   "metadata": {
    "scrolled": false
   },
   "outputs": [
    {
     "name": "stdout",
     "output_type": "stream",
     "text": [
      "<class 'pandas.core.frame.DataFrame'>\n",
      "RangeIndex: 32561 entries, 0 to 32560\n",
      "Data columns (total 15 columns):\n",
      " #   Column          Non-Null Count  Dtype \n",
      "---  ------          --------------  ----- \n",
      " 0   age             32561 non-null  int64 \n",
      " 1   workclass       32561 non-null  object\n",
      " 2   fnlwgt          32561 non-null  int64 \n",
      " 3   education       32561 non-null  object\n",
      " 4   education.num   32561 non-null  int64 \n",
      " 5   marital.status  32561 non-null  object\n",
      " 6   occupation      32561 non-null  object\n",
      " 7   relationship    32561 non-null  object\n",
      " 8   race            32561 non-null  object\n",
      " 9   sex             32561 non-null  object\n",
      " 10  capital.gain    32561 non-null  int64 \n",
      " 11  capital.loss    32561 non-null  int64 \n",
      " 12  hours.per.week  32561 non-null  int64 \n",
      " 13  native.country  32561 non-null  object\n",
      " 14  income          32561 non-null  object\n",
      "dtypes: int64(6), object(9)\n",
      "memory usage: 3.7+ MB\n"
     ]
    }
   ],
   "source": [
    "df.info()"
   ]
  },
  {
   "cell_type": "code",
   "execution_count": 4,
   "id": "e0f79707",
   "metadata": {
    "scrolled": true
   },
   "outputs": [
    {
     "data": {
      "text/html": [
       "<div>\n",
       "<style scoped>\n",
       "    .dataframe tbody tr th:only-of-type {\n",
       "        vertical-align: middle;\n",
       "    }\n",
       "\n",
       "    .dataframe tbody tr th {\n",
       "        vertical-align: top;\n",
       "    }\n",
       "\n",
       "    .dataframe thead th {\n",
       "        text-align: right;\n",
       "    }\n",
       "</style>\n",
       "<table border=\"1\" class=\"dataframe\">\n",
       "  <thead>\n",
       "    <tr style=\"text-align: right;\">\n",
       "      <th></th>\n",
       "      <th>age</th>\n",
       "      <th>fnlwgt</th>\n",
       "      <th>education.num</th>\n",
       "      <th>capital.gain</th>\n",
       "      <th>capital.loss</th>\n",
       "      <th>hours.per.week</th>\n",
       "    </tr>\n",
       "  </thead>\n",
       "  <tbody>\n",
       "    <tr>\n",
       "      <th>count</th>\n",
       "      <td>32561.000000</td>\n",
       "      <td>3.256100e+04</td>\n",
       "      <td>32561.000000</td>\n",
       "      <td>32561.000000</td>\n",
       "      <td>32561.000000</td>\n",
       "      <td>32561.000000</td>\n",
       "    </tr>\n",
       "    <tr>\n",
       "      <th>mean</th>\n",
       "      <td>38.581647</td>\n",
       "      <td>1.897784e+05</td>\n",
       "      <td>10.080679</td>\n",
       "      <td>1077.648844</td>\n",
       "      <td>87.303830</td>\n",
       "      <td>40.437456</td>\n",
       "    </tr>\n",
       "    <tr>\n",
       "      <th>std</th>\n",
       "      <td>13.640433</td>\n",
       "      <td>1.055500e+05</td>\n",
       "      <td>2.572720</td>\n",
       "      <td>7385.292085</td>\n",
       "      <td>402.960219</td>\n",
       "      <td>12.347429</td>\n",
       "    </tr>\n",
       "    <tr>\n",
       "      <th>min</th>\n",
       "      <td>17.000000</td>\n",
       "      <td>1.228500e+04</td>\n",
       "      <td>1.000000</td>\n",
       "      <td>0.000000</td>\n",
       "      <td>0.000000</td>\n",
       "      <td>1.000000</td>\n",
       "    </tr>\n",
       "    <tr>\n",
       "      <th>25%</th>\n",
       "      <td>28.000000</td>\n",
       "      <td>1.178270e+05</td>\n",
       "      <td>9.000000</td>\n",
       "      <td>0.000000</td>\n",
       "      <td>0.000000</td>\n",
       "      <td>40.000000</td>\n",
       "    </tr>\n",
       "    <tr>\n",
       "      <th>50%</th>\n",
       "      <td>37.000000</td>\n",
       "      <td>1.783560e+05</td>\n",
       "      <td>10.000000</td>\n",
       "      <td>0.000000</td>\n",
       "      <td>0.000000</td>\n",
       "      <td>40.000000</td>\n",
       "    </tr>\n",
       "    <tr>\n",
       "      <th>75%</th>\n",
       "      <td>48.000000</td>\n",
       "      <td>2.370510e+05</td>\n",
       "      <td>12.000000</td>\n",
       "      <td>0.000000</td>\n",
       "      <td>0.000000</td>\n",
       "      <td>45.000000</td>\n",
       "    </tr>\n",
       "    <tr>\n",
       "      <th>max</th>\n",
       "      <td>90.000000</td>\n",
       "      <td>1.484705e+06</td>\n",
       "      <td>16.000000</td>\n",
       "      <td>99999.000000</td>\n",
       "      <td>4356.000000</td>\n",
       "      <td>99.000000</td>\n",
       "    </tr>\n",
       "  </tbody>\n",
       "</table>\n",
       "</div>"
      ],
      "text/plain": [
       "                age        fnlwgt  education.num  capital.gain  capital.loss  \\\n",
       "count  32561.000000  3.256100e+04   32561.000000  32561.000000  32561.000000   \n",
       "mean      38.581647  1.897784e+05      10.080679   1077.648844     87.303830   \n",
       "std       13.640433  1.055500e+05       2.572720   7385.292085    402.960219   \n",
       "min       17.000000  1.228500e+04       1.000000      0.000000      0.000000   \n",
       "25%       28.000000  1.178270e+05       9.000000      0.000000      0.000000   \n",
       "50%       37.000000  1.783560e+05      10.000000      0.000000      0.000000   \n",
       "75%       48.000000  2.370510e+05      12.000000      0.000000      0.000000   \n",
       "max       90.000000  1.484705e+06      16.000000  99999.000000   4356.000000   \n",
       "\n",
       "       hours.per.week  \n",
       "count    32561.000000  \n",
       "mean        40.437456  \n",
       "std         12.347429  \n",
       "min          1.000000  \n",
       "25%         40.000000  \n",
       "50%         40.000000  \n",
       "75%         45.000000  \n",
       "max         99.000000  "
      ]
     },
     "execution_count": 4,
     "metadata": {},
     "output_type": "execute_result"
    }
   ],
   "source": [
    "df.describe()"
   ]
  },
  {
   "cell_type": "markdown",
   "id": "bc4205ea",
   "metadata": {},
   "source": [
    "# Step 2. Exploring Data And Visualizing Data"
   ]
  },
  {
   "cell_type": "code",
   "execution_count": 5,
   "id": "078e6121",
   "metadata": {},
   "outputs": [],
   "source": [
    "# Seperating the categorical and numerical columns\n",
    "obj_column = df.dtypes[df.dtypes == 'object']\n",
    "num_column = df.dtypes[df.dtypes == 'int64']"
   ]
  },
  {
   "cell_type": "code",
   "execution_count": 6,
   "id": "f82552f5",
   "metadata": {
    "scrolled": false
   },
   "outputs": [
    {
     "name": "stdout",
     "output_type": "stream",
     "text": [
      "****************** Workclass ******************\n",
      "                  total count  percentage\n",
      "Private                 22696    0.697030\n",
      "Self-emp-not-inc         2541    0.078038\n",
      "Local-gov                2093    0.064279\n",
      "?                        1836    0.056386\n",
      "State-gov                1298    0.039864\n",
      "Self-emp-inc             1116    0.034274\n",
      "Federal-gov               960    0.029483\n",
      "Without-pay                14    0.000430\n",
      "Never-worked                7    0.000215\n",
      "\n",
      "\n",
      "****************** Education ******************\n",
      "              total count  percentage\n",
      "HS-grad             10501    0.322502\n",
      "Some-college         7291    0.223918\n",
      "Bachelors            5355    0.164461\n",
      "Masters              1723    0.052916\n",
      "Assoc-voc            1382    0.042443\n",
      "11th                 1175    0.036086\n",
      "Assoc-acdm           1067    0.032769\n",
      "10th                  933    0.028654\n",
      "7th-8th               646    0.019840\n",
      "Prof-school           576    0.017690\n",
      "9th                   514    0.015786\n",
      "12th                  433    0.013298\n",
      "Doctorate             413    0.012684\n",
      "5th-6th               333    0.010227\n",
      "1st-4th               168    0.005160\n",
      "Preschool              51    0.001566\n",
      "\n",
      "\n",
      "****************** Marital.Status ******************\n",
      "                       total count  percentage\n",
      "Married-civ-spouse           14976    0.459937\n",
      "Never-married                10683    0.328092\n",
      "Divorced                      4443    0.136452\n",
      "Separated                     1025    0.031479\n",
      "Widowed                        993    0.030497\n",
      "Married-spouse-absent          418    0.012837\n",
      "Married-AF-spouse               23    0.000706\n",
      "\n",
      "\n",
      "****************** Occupation ******************\n",
      "                   total count  percentage\n",
      "Prof-specialty            4140    0.127146\n",
      "Craft-repair              4099    0.125887\n",
      "Exec-managerial           4066    0.124873\n",
      "Adm-clerical              3770    0.115783\n",
      "Sales                     3650    0.112097\n",
      "Other-service             3295    0.101195\n",
      "Machine-op-inspct         2002    0.061485\n",
      "?                         1843    0.056601\n",
      "Transport-moving          1597    0.049046\n",
      "Handlers-cleaners         1370    0.042075\n",
      "Farming-fishing            994    0.030527\n",
      "Tech-support               928    0.028500\n",
      "Protective-serv            649    0.019932\n",
      "Priv-house-serv            149    0.004576\n",
      "Armed-Forces                 9    0.000276\n",
      "\n",
      "\n",
      "****************** Relationship ******************\n",
      "                total count  percentage\n",
      "Husband               13193    0.405178\n",
      "Not-in-family          8305    0.255060\n",
      "Own-child              5068    0.155646\n",
      "Unmarried              3446    0.105832\n",
      "Wife                   1568    0.048156\n",
      "Other-relative          981    0.030128\n",
      "\n",
      "\n",
      "****************** Race ******************\n",
      "                    total count  percentage\n",
      "White                     27816    0.854274\n",
      "Black                      3124    0.095943\n",
      "Asian-Pac-Islander         1039    0.031909\n",
      "Amer-Indian-Eskimo          311    0.009551\n",
      "Other                       271    0.008323\n",
      "\n",
      "\n",
      "****************** Sex ******************\n",
      "        total count  percentage\n",
      "Male          21790    0.669205\n",
      "Female        10771    0.330795\n",
      "\n",
      "\n",
      "****************** Native.Country ******************\n",
      "                            total count  percentage\n",
      "United-States                     29170    0.895857\n",
      "Mexico                              643    0.019748\n",
      "?                                   583    0.017905\n",
      "Philippines                         198    0.006081\n",
      "Germany                             137    0.004207\n",
      "Canada                              121    0.003716\n",
      "Puerto-Rico                         114    0.003501\n",
      "El-Salvador                         106    0.003255\n",
      "India                               100    0.003071\n",
      "Cuba                                 95    0.002918\n",
      "England                              90    0.002764\n",
      "Jamaica                              81    0.002488\n",
      "South                                80    0.002457\n",
      "China                                75    0.002303\n",
      "Italy                                73    0.002242\n",
      "Dominican-Republic                   70    0.002150\n",
      "Vietnam                              67    0.002058\n",
      "Guatemala                            64    0.001966\n",
      "Japan                                62    0.001904\n",
      "Poland                               60    0.001843\n",
      "Columbia                             59    0.001812\n",
      "Taiwan                               51    0.001566\n",
      "Haiti                                44    0.001351\n",
      "Iran                                 43    0.001321\n",
      "Portugal                             37    0.001136\n",
      "Nicaragua                            34    0.001044\n",
      "Peru                                 31    0.000952\n",
      "Greece                               29    0.000891\n",
      "France                               29    0.000891\n",
      "Ecuador                              28    0.000860\n",
      "Ireland                              24    0.000737\n",
      "Hong                                 20    0.000614\n",
      "Cambodia                             19    0.000584\n",
      "Trinadad&Tobago                      19    0.000584\n",
      "Laos                                 18    0.000553\n",
      "Thailand                             18    0.000553\n",
      "Yugoslavia                           16    0.000491\n",
      "Outlying-US(Guam-USVI-etc)           14    0.000430\n",
      "Hungary                              13    0.000399\n",
      "Honduras                             13    0.000399\n",
      "Scotland                             12    0.000369\n",
      "Holand-Netherlands                    1    0.000031\n",
      "\n",
      "\n",
      "****************** Income ******************\n",
      "       total count  percentage\n",
      "<=50K        24720     0.75919\n",
      ">50K          7841     0.24081\n",
      "\n",
      "\n"
     ]
    }
   ],
   "source": [
    "for col in list(obj_column.index):\n",
    "    print(f\"****************** {col.title()} ******************\")\n",
    "    total = df[col].value_counts()\n",
    "    percentage = df[col].value_counts()/ df.shape[0]\n",
    "    dataset = pd.concat([total, percentage], keys = ['total count', 'percentage'], axis = 1)\n",
    "    print(dataset)\n",
    "    print('\\n')"
   ]
  },
  {
   "cell_type": "code",
   "execution_count": 7,
   "id": "dd7820d1",
   "metadata": {},
   "outputs": [],
   "source": [
    "# to replace ? with null\n",
    "change_cols = ['workclass', 'occupation', 'native.country']\n",
    "for col in change_cols:\n",
    "    df.loc[df[col] == '?', col] = 'null'"
   ]
  },
  {
   "cell_type": "code",
   "execution_count": 8,
   "id": "52d97dd2",
   "metadata": {
    "scrolled": true
   },
   "outputs": [
    {
     "name": "stdout",
     "output_type": "stream",
     "text": [
      "? in workclass: 0\n",
      "? in occupation: 0\n",
      "? in native.country: 0\n"
     ]
    }
   ],
   "source": [
    "# cross check\n",
    "for col in change_cols:\n",
    "    print(f\"? in {col}: {df[(df[col] == '?')].any().sum()}\")"
   ]
  },
  {
   "cell_type": "code",
   "execution_count": 9,
   "id": "cc5b038f",
   "metadata": {},
   "outputs": [
    {
     "data": {
      "text/plain": [
       "Schooling         14754\n",
       "Some-college       7291\n",
       "Undergraduates     5355\n",
       "Post-Graduates     1723\n",
       "Assoc-voc          1382\n",
       "Assoc-acdm         1067\n",
       "Prof-school         576\n",
       "Doctorate           413\n",
       "Name: education, dtype: int64"
      ]
     },
     "execution_count": 9,
     "metadata": {},
     "output_type": "execute_result"
    }
   ],
   "source": [
    "# merging and replacing elements in the list\n",
    "\n",
    "school = ['HS-grad', '12th', '11th', '10th', '9th','1st-4th','5th-6th','7th-8th', 'Preschool']\n",
    "df['education'].replace(to_replace = school, value = 'Schooling', inplace = True)\n",
    "df['education'].replace(to_replace = ['Bachelors'], value = \"Undergraduates\", inplace = True)\n",
    "df['education'].replace(to_replace = ['Masters'], value = \"Post-Graduates\", inplace = True)\n",
    "df['education'].value_counts()"
   ]
  },
  {
   "cell_type": "code",
   "execution_count": 10,
   "id": "c349a6b5",
   "metadata": {},
   "outputs": [
    {
     "data": {
      "text/plain": [
       "Married      15417\n",
       "Single       10683\n",
       "Separated     5468\n",
       "Widowed        993\n",
       "Name: marital.status, dtype: int64"
      ]
     },
     "execution_count": 10,
     "metadata": {},
     "output_type": "execute_result"
    }
   ],
   "source": [
    "married= ['Married-spouse-absent','Married-civ-spouse','Married-AF-spouse']\n",
    "separated = ['Separated','Divorced']\n",
    "\n",
    "df['marital.status'].replace(to_replace = married ,value = 'Married',inplace = True)\n",
    "df['marital.status'].replace(to_replace = separated,value = 'Separated',inplace = True)\n",
    "df['marital.status'].replace(to_replace = ['Never-married'], value = \"Single\", inplace = True)\n",
    "\n",
    "df['marital.status'].value_counts()"
   ]
  },
  {
   "cell_type": "code",
   "execution_count": 11,
   "id": "9be23701",
   "metadata": {},
   "outputs": [
    {
     "data": {
      "text/plain": [
       "Private           22696\n",
       "Govt-Employees     4351\n",
       "Self-Employed      3657\n",
       "null               1836\n",
       "Without-pay          14\n",
       "Unemployed            7\n",
       "Name: workclass, dtype: int64"
      ]
     },
     "execution_count": 11,
     "metadata": {},
     "output_type": "execute_result"
    }
   ],
   "source": [
    "self_employed = ['Self-emp-not-inc','Self-emp-inc']\n",
    "govt_employees = ['Local-gov','State-gov','Federal-gov']\n",
    "\n",
    "df['workclass'].replace(to_replace = self_employed ,value = 'Self-Employed',inplace = True)\n",
    "df['workclass'].replace(to_replace = govt_employees,value = 'Govt-Employees',inplace = True)\n",
    "df['workclass'].replace(to_replace = ['Never-worked'], value = 'Unemployed', inplace = True)\n",
    "\n",
    "df['workclass'].value_counts()"
   ]
  },
  {
   "cell_type": "code",
   "execution_count": 12,
   "id": "bd9f2651",
   "metadata": {},
   "outputs": [
    {
     "data": {
      "image/png": "[encoded data removed]",
      "text/plain": [
       "<Figure size 1008x504 with 1 Axes>"
      ]
     },
     "metadata": {
      "needs_background": "light"
     },
     "output_type": "display_data"
    }
   ],
   "source": [
    "plt.figure(figsize=(14,7))\n",
    "sns.countplot(x = 'income', data = df)\n",
    "plt.xlabel('Income', fontsize = 14)\n",
    "plt.ylabel('Frequency', fontsize = 14)\n",
    "plt.show()"
   ]
  },
  {
   "cell_type": "code",
   "execution_count": 13,
   "id": "b14e1cad",
   "metadata": {},
   "outputs": [
    {
     "data": {
      "image/png": "[encoded data removed]",
      "text/plain": [
       "<Figure size 1008x1008 with 6 Axes>"
      ]
     },
     "metadata": {
      "needs_background": "light"
     },
     "output_type": "display_data"
    }
   ],
   "source": [
    "#distribution of population on the basis of numerical features\n",
    "df[list(num_column.index)].hist(figsize = (14,14), color=\"green\");"
   ]
  },
  {
   "cell_type": "code",
   "execution_count": 14,
   "id": "600948a7",
   "metadata": {},
   "outputs": [
    {
     "name": "stdout",
     "output_type": "stream",
     "text": [
      "Number of observations having capital loss above median value: (1519, 15)\n",
      "Number of observations in capital gain dataset above median value: (2712, 15)\n",
      "Percentage of people having capital gain greater than median value: 8.3290%\n",
      "Percentage of people having capital loss greater than median value: 4.6651%\n"
     ]
    }
   ],
   "source": [
    "capital_loss = df[df['capital.loss']>0]\n",
    "capital_gain = df[df['capital.gain']> 0]\n",
    "\n",
    "print(f\"Number of observations having capital loss above median value: {capital_loss.shape}\\nNumber of observations in capital gain dataset above median value: {capital_gain.shape}\")\n",
    "print(f\"Percentage of people having capital gain greater than median value: {(df.loc[df['capital.gain'] > 0,:].shape[0] / df.shape[0])*100:.4f}%\")\n",
    "print(f\"Percentage of people having capital loss greater than median value: {(df.loc[df['capital.loss'] > 0,:].shape[0] / df.shape[0])*100:.4f}%\")"
   ]
  },
  {
   "cell_type": "code",
   "execution_count": 15,
   "id": "80944a6e",
   "metadata": {},
   "outputs": [
    {
     "name": "stdout",
     "output_type": "stream",
     "text": [
      "      capital.loss  capital.gain\n",
      "1472          1258             0\n",
      "27            2603             0\n",
      "172           2258             0\n",
      "653           1902             0\n",
      "146           2339             0\n",
      "      capital.loss  capital.gain\n",
      "2107             0         15024\n",
      "1826             0         15024\n",
      "1684             0         34095\n",
      "2102             0         15024\n",
      "2511             0          7688\n"
     ]
    }
   ],
   "source": [
    "capital_gain_0= df[df['capital.loss'] > 0].loc[:,['capital.loss','capital.gain']].sample(10)\n",
    "\n",
    "capital_loss_0 = df[df['capital.gain'] > 0].loc[:,['capital.loss','capital.gain']].sample(5)\n",
    "print(capital_gain_0.head())\n",
    "print(capital_loss_0.head())"
   ]
  },
  {
   "cell_type": "code",
   "execution_count": 16,
   "id": "9cf1cd03",
   "metadata": {
    "scrolled": false
   },
   "outputs": [
    {
     "name": "stdout",
     "output_type": "stream",
     "text": [
      "Number of observations having capital gain and capital loss zero: (28330, 15)\n",
      "*************** workclass ***************\n",
      "Private           19982\n",
      "Govt-Employees     3714\n",
      "Self-Employed      2960\n",
      "null               1655\n",
      "Without-pay          12\n",
      "Unemployed            7\n",
      "Name: workclass, dtype: int64\n",
      "\n",
      "\n",
      "*************** education ***************\n",
      "Schooling         13342\n",
      "Some-college       6533\n",
      "Undergraduates     4384\n",
      "Post-Graduates     1300\n",
      "Assoc-voc          1194\n",
      "Assoc-acdm          930\n",
      "Prof-school         363\n",
      "Doctorate           284\n",
      "Name: education, dtype: int64\n",
      "\n",
      "\n",
      "*************** marital.status ***************\n",
      "Married      12603\n",
      "Single        9914\n",
      "Separated     4934\n",
      "Widowed        879\n",
      "Name: marital.status, dtype: int64\n",
      "\n",
      "\n",
      "*************** occupation ***************\n",
      "Craft-repair         3593\n",
      "Adm-clerical         3408\n",
      "Prof-specialty       3290\n",
      "Exec-managerial      3219\n",
      "Sales                3138\n",
      "Other-service        3122\n",
      "Machine-op-inspct    1806\n",
      "null                 1662\n",
      "Transport-moving     1416\n",
      "Handlers-cleaners    1274\n",
      "Farming-fishing       890\n",
      "Tech-support          795\n",
      "Protective-serv       570\n",
      "Priv-house-serv       139\n",
      "Armed-Forces            8\n",
      "Name: occupation, dtype: int64\n",
      "\n",
      "\n",
      "*************** relationship ***************\n",
      "Husband           10739\n",
      "Not-in-family      7427\n",
      "Own-child          4810\n",
      "Unmarried          3172\n",
      "Wife               1272\n",
      "Other-relative      910\n",
      "Name: relationship, dtype: int64\n",
      "\n",
      "\n",
      "*************** race ***************\n",
      "White                 24061\n",
      "Black                  2839\n",
      "Asian-Pac-Islander      902\n",
      "Amer-Indian-Eskimo      280\n",
      "Other                   248\n",
      "Name: race, dtype: int64\n",
      "\n",
      "\n",
      "*************** sex ***************\n",
      "Male      18551\n",
      "Female     9779\n",
      "Name: sex, dtype: int64\n",
      "\n",
      "\n",
      "*************** native.country ***************\n",
      "United-States                 25320\n",
      "Mexico                          612\n",
      "null                            493\n",
      "Philippines                     174\n",
      "Germany                         117\n",
      "Puerto-Rico                     103\n",
      "Canada                          103\n",
      "El-Salvador                      95\n",
      "Cuba                             85\n",
      "India                            79\n",
      "Jamaica                          78\n",
      "England                          78\n",
      "South                            68\n",
      "Dominican-Republic               67\n",
      "Italy                            65\n",
      "China                            64\n",
      "Guatemala                        60\n",
      "Vietnam                          57\n",
      "Columbia                         55\n",
      "Poland                           53\n",
      "Japan                            51\n",
      "Taiwan                           44\n",
      "Haiti                            42\n",
      "Portugal                         35\n",
      "Iran                             35\n",
      "Nicaragua                        30\n",
      "Peru                             29\n",
      "France                           26\n",
      "Ecuador                          25\n",
      "Ireland                          21\n",
      "Greece                           20\n",
      "Hong                             19\n",
      "Thailand                         18\n",
      "Laos                             17\n",
      "Trinadad&Tobago                  17\n",
      "Yugoslavia                       15\n",
      "Outlying-US(Guam-USVI-etc)       14\n",
      "Cambodia                         14\n",
      "Honduras                         12\n",
      "Scotland                         11\n",
      "Hungary                           9\n",
      "Name: native.country, dtype: int64\n",
      "\n",
      "\n",
      "*************** income ***************\n",
      "<=50K    22939\n",
      ">50K      5391\n",
      "Name: income, dtype: int64\n",
      "\n",
      "\n"
     ]
    }
   ],
   "source": [
    "print(f\"Number of observations having capital gain and capital loss zero: {df[(df['capital.loss'] == 0) & (df['capital.gain'] == 0)].shape}\")\n",
    "for col in obj_column.index:\n",
    "    print(f\"*************** {col} ***************\")\n",
    "    print(df[(df['capital.loss'] == 0) & (df['capital.gain'] == 0)][col].value_counts())\n",
    "    print(\"\\n\")"
   ]
  },
  {
   "cell_type": "code",
   "execution_count": 17,
   "id": "77a56696",
   "metadata": {},
   "outputs": [
    {
     "data": {
      "text/html": [
       "<div>\n",
       "<style scoped>\n",
       "    .dataframe tbody tr th:only-of-type {\n",
       "        vertical-align: middle;\n",
       "    }\n",
       "\n",
       "    .dataframe tbody tr th {\n",
       "        vertical-align: top;\n",
       "    }\n",
       "\n",
       "    .dataframe thead th {\n",
       "        text-align: right;\n",
       "    }\n",
       "</style>\n",
       "<table border=\"1\" class=\"dataframe\">\n",
       "  <thead>\n",
       "    <tr style=\"text-align: right;\">\n",
       "      <th></th>\n",
       "      <th>age</th>\n",
       "      <th>fnlwgt</th>\n",
       "      <th>education.num</th>\n",
       "      <th>capital.gain</th>\n",
       "      <th>capital.loss</th>\n",
       "      <th>hours.per.week</th>\n",
       "    </tr>\n",
       "  </thead>\n",
       "  <tbody>\n",
       "    <tr>\n",
       "      <th>count</th>\n",
       "      <td>2712.000000</td>\n",
       "      <td>2.712000e+03</td>\n",
       "      <td>2712.000000</td>\n",
       "      <td>2712.000000</td>\n",
       "      <td>2712.0</td>\n",
       "      <td>2712.000000</td>\n",
       "    </tr>\n",
       "    <tr>\n",
       "      <th>mean</th>\n",
       "      <td>44.016224</td>\n",
       "      <td>1.880805e+05</td>\n",
       "      <td>11.066003</td>\n",
       "      <td>12938.541298</td>\n",
       "      <td>0.0</td>\n",
       "      <td>43.510324</td>\n",
       "    </tr>\n",
       "    <tr>\n",
       "      <th>std</th>\n",
       "      <td>13.268269</td>\n",
       "      <td>1.033775e+05</td>\n",
       "      <td>2.663273</td>\n",
       "      <td>22395.413530</td>\n",
       "      <td>0.0</td>\n",
       "      <td>12.207654</td>\n",
       "    </tr>\n",
       "    <tr>\n",
       "      <th>min</th>\n",
       "      <td>17.000000</td>\n",
       "      <td>1.930200e+04</td>\n",
       "      <td>1.000000</td>\n",
       "      <td>114.000000</td>\n",
       "      <td>0.0</td>\n",
       "      <td>1.000000</td>\n",
       "    </tr>\n",
       "    <tr>\n",
       "      <th>25%</th>\n",
       "      <td>35.000000</td>\n",
       "      <td>1.180670e+05</td>\n",
       "      <td>9.000000</td>\n",
       "      <td>3411.000000</td>\n",
       "      <td>0.0</td>\n",
       "      <td>40.000000</td>\n",
       "    </tr>\n",
       "    <tr>\n",
       "      <th>50%</th>\n",
       "      <td>43.000000</td>\n",
       "      <td>1.759390e+05</td>\n",
       "      <td>10.000000</td>\n",
       "      <td>7298.000000</td>\n",
       "      <td>0.0</td>\n",
       "      <td>40.000000</td>\n",
       "    </tr>\n",
       "    <tr>\n",
       "      <th>75%</th>\n",
       "      <td>52.000000</td>\n",
       "      <td>2.364735e+05</td>\n",
       "      <td>13.000000</td>\n",
       "      <td>14084.000000</td>\n",
       "      <td>0.0</td>\n",
       "      <td>50.000000</td>\n",
       "    </tr>\n",
       "    <tr>\n",
       "      <th>max</th>\n",
       "      <td>90.000000</td>\n",
       "      <td>1.033222e+06</td>\n",
       "      <td>16.000000</td>\n",
       "      <td>99999.000000</td>\n",
       "      <td>0.0</td>\n",
       "      <td>99.000000</td>\n",
       "    </tr>\n",
       "  </tbody>\n",
       "</table>\n",
       "</div>"
      ],
      "text/plain": [
       "               age        fnlwgt  education.num  capital.gain  capital.loss  \\\n",
       "count  2712.000000  2.712000e+03    2712.000000   2712.000000        2712.0   \n",
       "mean     44.016224  1.880805e+05      11.066003  12938.541298           0.0   \n",
       "std      13.268269  1.033775e+05       2.663273  22395.413530           0.0   \n",
       "min      17.000000  1.930200e+04       1.000000    114.000000           0.0   \n",
       "25%      35.000000  1.180670e+05       9.000000   3411.000000           0.0   \n",
       "50%      43.000000  1.759390e+05      10.000000   7298.000000           0.0   \n",
       "75%      52.000000  2.364735e+05      13.000000  14084.000000           0.0   \n",
       "max      90.000000  1.033222e+06      16.000000  99999.000000           0.0   \n",
       "\n",
       "       hours.per.week  \n",
       "count     2712.000000  \n",
       "mean        43.510324  \n",
       "std         12.207654  \n",
       "min          1.000000  \n",
       "25%         40.000000  \n",
       "50%         40.000000  \n",
       "75%         50.000000  \n",
       "max         99.000000  "
      ]
     },
     "execution_count": 17,
     "metadata": {},
     "output_type": "execute_result"
    }
   ],
   "source": [
    "df.loc[df['capital.gain'] > 0,:].describe()"
   ]
  },
  {
   "cell_type": "code",
   "execution_count": 18,
   "id": "2dcdff05",
   "metadata": {},
   "outputs": [
    {
     "data": {
      "text/html": [
       "<div>\n",
       "<style scoped>\n",
       "    .dataframe tbody tr th:only-of-type {\n",
       "        vertical-align: middle;\n",
       "    }\n",
       "\n",
       "    .dataframe tbody tr th {\n",
       "        vertical-align: top;\n",
       "    }\n",
       "\n",
       "    .dataframe thead th {\n",
       "        text-align: right;\n",
       "    }\n",
       "</style>\n",
       "<table border=\"1\" class=\"dataframe\">\n",
       "  <thead>\n",
       "    <tr style=\"text-align: right;\">\n",
       "      <th></th>\n",
       "      <th>age</th>\n",
       "      <th>fnlwgt</th>\n",
       "      <th>education.num</th>\n",
       "      <th>capital.gain</th>\n",
       "      <th>capital.loss</th>\n",
       "      <th>hours.per.week</th>\n",
       "    </tr>\n",
       "  </thead>\n",
       "  <tbody>\n",
       "    <tr>\n",
       "      <th>count</th>\n",
       "      <td>1519.000000</td>\n",
       "      <td>1519.000000</td>\n",
       "      <td>1519.000000</td>\n",
       "      <td>1519.0</td>\n",
       "      <td>1519.000000</td>\n",
       "      <td>1519.000000</td>\n",
       "    </tr>\n",
       "    <tr>\n",
       "      <th>mean</th>\n",
       "      <td>41.697828</td>\n",
       "      <td>185492.941409</td>\n",
       "      <td>10.969059</td>\n",
       "      <td>0.0</td>\n",
       "      <td>1871.428571</td>\n",
       "      <td>43.252798</td>\n",
       "    </tr>\n",
       "    <tr>\n",
       "      <th>std</th>\n",
       "      <td>12.625609</td>\n",
       "      <td>97621.521906</td>\n",
       "      <td>2.688426</td>\n",
       "      <td>0.0</td>\n",
       "      <td>376.571535</td>\n",
       "      <td>12.247258</td>\n",
       "    </tr>\n",
       "    <tr>\n",
       "      <th>min</th>\n",
       "      <td>17.000000</td>\n",
       "      <td>20953.000000</td>\n",
       "      <td>1.000000</td>\n",
       "      <td>0.0</td>\n",
       "      <td>155.000000</td>\n",
       "      <td>1.000000</td>\n",
       "    </tr>\n",
       "    <tr>\n",
       "      <th>25%</th>\n",
       "      <td>32.000000</td>\n",
       "      <td>118854.000000</td>\n",
       "      <td>9.000000</td>\n",
       "      <td>0.0</td>\n",
       "      <td>1672.000000</td>\n",
       "      <td>40.000000</td>\n",
       "    </tr>\n",
       "    <tr>\n",
       "      <th>50%</th>\n",
       "      <td>41.000000</td>\n",
       "      <td>175109.000000</td>\n",
       "      <td>10.000000</td>\n",
       "      <td>0.0</td>\n",
       "      <td>1887.000000</td>\n",
       "      <td>40.000000</td>\n",
       "    </tr>\n",
       "    <tr>\n",
       "      <th>75%</th>\n",
       "      <td>50.000000</td>\n",
       "      <td>228991.500000</td>\n",
       "      <td>13.000000</td>\n",
       "      <td>0.0</td>\n",
       "      <td>1977.000000</td>\n",
       "      <td>50.000000</td>\n",
       "    </tr>\n",
       "    <tr>\n",
       "      <th>max</th>\n",
       "      <td>90.000000</td>\n",
       "      <td>816750.000000</td>\n",
       "      <td>16.000000</td>\n",
       "      <td>0.0</td>\n",
       "      <td>4356.000000</td>\n",
       "      <td>99.000000</td>\n",
       "    </tr>\n",
       "  </tbody>\n",
       "</table>\n",
       "</div>"
      ],
      "text/plain": [
       "               age         fnlwgt  education.num  capital.gain  capital.loss  \\\n",
       "count  1519.000000    1519.000000    1519.000000        1519.0   1519.000000   \n",
       "mean     41.697828  185492.941409      10.969059           0.0   1871.428571   \n",
       "std      12.625609   97621.521906       2.688426           0.0    376.571535   \n",
       "min      17.000000   20953.000000       1.000000           0.0    155.000000   \n",
       "25%      32.000000  118854.000000       9.000000           0.0   1672.000000   \n",
       "50%      41.000000  175109.000000      10.000000           0.0   1887.000000   \n",
       "75%      50.000000  228991.500000      13.000000           0.0   1977.000000   \n",
       "max      90.000000  816750.000000      16.000000           0.0   4356.000000   \n",
       "\n",
       "       hours.per.week  \n",
       "count     1519.000000  \n",
       "mean        43.252798  \n",
       "std         12.247258  \n",
       "min          1.000000  \n",
       "25%         40.000000  \n",
       "50%         40.000000  \n",
       "75%         50.000000  \n",
       "max         99.000000  "
      ]
     },
     "execution_count": 18,
     "metadata": {},
     "output_type": "execute_result"
    }
   ],
   "source": [
    "df.loc[df['capital.loss'] > 0,:].describe()"
   ]
  },
  {
   "cell_type": "code",
   "execution_count": 19,
   "id": "b3241288",
   "metadata": {
    "scrolled": false
   },
   "outputs": [
    {
     "name": "stdout",
     "output_type": "stream",
     "text": [
      "Number of observations having capital gain of 99999:(159, 15)\n",
      "Income counts: >50K    159\n",
      "Name: income, dtype: int64\n"
     ]
    }
   ],
   "source": [
    "print(f\"Number of observations having capital gain of 99999:{df.loc[df['capital.gain'] == 99999,:].shape}\")\n",
    "print(f\"Income counts: {df.loc[df['capital.gain'] == 99999,:]['income'].value_counts()}\")"
   ]
  },
  {
   "cell_type": "code",
   "execution_count": 20,
   "id": "9b1f47b2",
   "metadata": {},
   "outputs": [
    {
     "name": "stdout",
     "output_type": "stream",
     "text": [
      "Number of observations having capital loss of 4356:(3, 15)\n",
      "Income counts: <=50K    3\n",
      "Name: income, dtype: int64\n"
     ]
    }
   ],
   "source": [
    "print(f\"Number of observations having capital loss of 4356:{df.loc[df['capital.loss'] == 4356,:].shape}\")\n",
    "print(f\"Income counts: {df.loc[df['capital.loss'] == 4356,:]['income'].value_counts()}\")"
   ]
  },
  {
   "cell_type": "code",
   "execution_count": 21,
   "id": "99e726e3",
   "metadata": {},
   "outputs": [
    {
     "data": {
      "text/html": [
       "<div>\n",
       "<style scoped>\n",
       "    .dataframe tbody tr th:only-of-type {\n",
       "        vertical-align: middle;\n",
       "    }\n",
       "\n",
       "    .dataframe tbody tr th {\n",
       "        vertical-align: top;\n",
       "    }\n",
       "\n",
       "    .dataframe thead th {\n",
       "        text-align: right;\n",
       "    }\n",
       "</style>\n",
       "<table border=\"1\" class=\"dataframe\">\n",
       "  <thead>\n",
       "    <tr style=\"text-align: right;\">\n",
       "      <th></th>\n",
       "      <th>age</th>\n",
       "      <th>fnlwgt</th>\n",
       "      <th>education.num</th>\n",
       "      <th>capital.gain</th>\n",
       "      <th>capital.loss</th>\n",
       "      <th>hours.per.week</th>\n",
       "    </tr>\n",
       "  </thead>\n",
       "  <tbody>\n",
       "    <tr>\n",
       "      <th>count</th>\n",
       "      <td>1519.000000</td>\n",
       "      <td>1519.000000</td>\n",
       "      <td>1519.000000</td>\n",
       "      <td>1519.0</td>\n",
       "      <td>1519.000000</td>\n",
       "      <td>1519.000000</td>\n",
       "    </tr>\n",
       "    <tr>\n",
       "      <th>mean</th>\n",
       "      <td>41.697828</td>\n",
       "      <td>185492.941409</td>\n",
       "      <td>10.969059</td>\n",
       "      <td>0.0</td>\n",
       "      <td>1871.428571</td>\n",
       "      <td>43.252798</td>\n",
       "    </tr>\n",
       "    <tr>\n",
       "      <th>std</th>\n",
       "      <td>12.625609</td>\n",
       "      <td>97621.521906</td>\n",
       "      <td>2.688426</td>\n",
       "      <td>0.0</td>\n",
       "      <td>376.571535</td>\n",
       "      <td>12.247258</td>\n",
       "    </tr>\n",
       "    <tr>\n",
       "      <th>min</th>\n",
       "      <td>17.000000</td>\n",
       "      <td>20953.000000</td>\n",
       "      <td>1.000000</td>\n",
       "      <td>0.0</td>\n",
       "      <td>155.000000</td>\n",
       "      <td>1.000000</td>\n",
       "    </tr>\n",
       "    <tr>\n",
       "      <th>25%</th>\n",
       "      <td>32.000000</td>\n",
       "      <td>118854.000000</td>\n",
       "      <td>9.000000</td>\n",
       "      <td>0.0</td>\n",
       "      <td>1672.000000</td>\n",
       "      <td>40.000000</td>\n",
       "    </tr>\n",
       "    <tr>\n",
       "      <th>50%</th>\n",
       "      <td>41.000000</td>\n",
       "      <td>175109.000000</td>\n",
       "      <td>10.000000</td>\n",
       "      <td>0.0</td>\n",
       "      <td>1887.000000</td>\n",
       "      <td>40.000000</td>\n",
       "    </tr>\n",
       "    <tr>\n",
       "      <th>75%</th>\n",
       "      <td>50.000000</td>\n",
       "      <td>228991.500000</td>\n",
       "      <td>13.000000</td>\n",
       "      <td>0.0</td>\n",
       "      <td>1977.000000</td>\n",
       "      <td>50.000000</td>\n",
       "    </tr>\n",
       "    <tr>\n",
       "      <th>max</th>\n",
       "      <td>90.000000</td>\n",
       "      <td>816750.000000</td>\n",
       "      <td>16.000000</td>\n",
       "      <td>0.0</td>\n",
       "      <td>4356.000000</td>\n",
       "      <td>99.000000</td>\n",
       "    </tr>\n",
       "  </tbody>\n",
       "</table>\n",
       "</div>"
      ],
      "text/plain": [
       "               age         fnlwgt  education.num  capital.gain  capital.loss  \\\n",
       "count  1519.000000    1519.000000    1519.000000        1519.0   1519.000000   \n",
       "mean     41.697828  185492.941409      10.969059           0.0   1871.428571   \n",
       "std      12.625609   97621.521906       2.688426           0.0    376.571535   \n",
       "min      17.000000   20953.000000       1.000000           0.0    155.000000   \n",
       "25%      32.000000  118854.000000       9.000000           0.0   1672.000000   \n",
       "50%      41.000000  175109.000000      10.000000           0.0   1887.000000   \n",
       "75%      50.000000  228991.500000      13.000000           0.0   1977.000000   \n",
       "max      90.000000  816750.000000      16.000000           0.0   4356.000000   \n",
       "\n",
       "       hours.per.week  \n",
       "count     1519.000000  \n",
       "mean        43.252798  \n",
       "std         12.247258  \n",
       "min          1.000000  \n",
       "25%         40.000000  \n",
       "50%         40.000000  \n",
       "75%         50.000000  \n",
       "max         99.000000  "
      ]
     },
     "execution_count": 21,
     "metadata": {},
     "output_type": "execute_result"
    }
   ],
   "source": [
    "df.loc[df['capital.loss'] > 0,:].describe()"
   ]
  },
  {
   "cell_type": "code",
   "execution_count": 22,
   "id": "2fe01a5e",
   "metadata": {
    "scrolled": true
   },
   "outputs": [
    {
     "name": "stdout",
     "output_type": "stream",
     "text": [
      "Number of observations having capital loss of 4356:(3, 15)\n",
      "\n",
      "Income Distribution among people with capital loss above mean:\n",
      "Income counts:\n",
      ">50K     658\n",
      "<=50K    277\n",
      "Name: income, dtype: int64\n"
     ]
    }
   ],
   "source": [
    "print(f\"Number of observations having capital loss of 4356:{df.loc[df['capital.loss'] == 4356,:].shape}\")\n",
    "print(\"\\nIncome Distribution among people with capital loss above mean:\")\n",
    "print(f\"Income counts:\\n{df.loc[df['capital.loss'] >= 1871,:]['income'].value_counts()}\")"
   ]
  },
  {
   "cell_type": "code",
   "execution_count": 23,
   "id": "8f1becd1",
   "metadata": {
    "scrolled": false
   },
   "outputs": [
    {
     "data": {
      "image/png": "[encoded data removed]",
      "text/plain": [
       "<Figure size 864x864 with 6 Axes>"
      ]
     },
     "metadata": {
      "needs_background": "light"
     },
     "output_type": "display_data"
    }
   ],
   "source": [
    "df[(df['capital.loss'] >= 1871) & (df['income'] == '>50K')].hist(figsize = (12,12), color=\"green\");"
   ]
  },
  {
   "cell_type": "code",
   "execution_count": 24,
   "id": "bcc7d5cd",
   "metadata": {
    "scrolled": false
   },
   "outputs": [
    {
     "data": {
      "image/png": "[encoded data removed]",
      "text/plain": [
       "<Figure size 720x720 with 6 Axes>"
      ]
     },
     "metadata": {
      "needs_background": "light"
     },
     "output_type": "display_data"
    }
   ],
   "source": [
    "df.loc[df['capital.gain'] == 99999,:].hist(figsize = (10,10), color= \"green\");"
   ]
  },
  {
   "cell_type": "code",
   "execution_count": 25,
   "id": "d11edbde",
   "metadata": {},
   "outputs": [],
   "source": [
    "occupation_table = pd.crosstab(df['occupation'],df['income'])\n",
    "workclass_table = pd.crosstab(df['workclass'],df['income'])\n",
    "education_table = pd.crosstab(df['education'],df['income'])\n",
    "marital_table = pd.crosstab(df['marital.status'],df['income'])\n",
    "race_table = pd.crosstab(df['race'],df['income'])\n",
    "sex_table = pd.crosstab(df['sex'],df['income'])\n",
    "country_table = pd.crosstab(df['native.country'],df['income'])"
   ]
  },
  {
   "cell_type": "code",
   "execution_count": 26,
   "id": "823f7c08",
   "metadata": {},
   "outputs": [
    {
     "data": {
      "image/png": "[encoded data removed]",
      "text/plain": [
       "<Figure size 1440x576 with 2 Axes>"
      ]
     },
     "metadata": {
      "needs_background": "light"
     },
     "output_type": "display_data"
    }
   ],
   "source": [
    "#plotting bar graph\n",
    "fig = plt.figure(figsize = (20,8))\n",
    "ax = fig.add_subplot(1,2,1)\n",
    "(occupation_table.div(occupation_table.sum(axis = 1), axis = 0)* 100).sort_values(by= '<=50K').plot(kind = 'bar',ax=ax, color=['green','red'])\n",
    "plt.xlabel(\"Occupation\",fontsize = 16);\n",
    "plt.ylabel('Proportion of People',fontsize = 16);\n",
    "ax = fig.add_subplot(1,2,2)\n",
    "(workclass_table.div(workclass_table.sum(axis = 1),axis = 0)*100).sort_values(by = '<=50K').plot(kind = 'bar',ax=ax, color=['green','red']);\n",
    "plt.xlabel(\"Workclass\",fontsize = 16);\n",
    "plt.ylabel('Proportion of People',fontsize = 16);"
   ]
  },
  {
   "cell_type": "code",
   "execution_count": 27,
   "id": "46930c8f",
   "metadata": {},
   "outputs": [
    {
     "data": {
      "image/png": "[encoded data removed]",
      "text/plain": [
       "<Figure size 1440x576 with 2 Axes>"
      ]
     },
     "metadata": {
      "needs_background": "light"
     },
     "output_type": "display_data"
    }
   ],
   "source": [
    "#plotting bar graph\n",
    "fig = plt.figure(figsize = (20,8))\n",
    "ax = fig.add_subplot(1,2,1)\n",
    "(education_table.div(education_table.sum(axis = 1),axis = 0)*100).sort_values(by = '<=50K').plot(kind = 'bar',ax =ax, color=['green','red']);\n",
    "plt.xlabel('Education',fontsize = 16);\n",
    "plt.ylabel('Proportion of People',fontsize = 16);\n",
    "ax = fig.add_subplot(1,2,2)\n",
    "(marital_table.div(marital_table.sum(axis = 1),axis = 0)*100).sort_values(by = '<=50K').plot(kind = 'bar',ax = ax, color=['green','red']);\n",
    "plt.xlabel('Marital Status',fontsize = 16);\n",
    "plt.ylabel('Proportion of People',fontsize = 16);"
   ]
  },
  {
   "cell_type": "code",
   "execution_count": 28,
   "id": "55cb7346",
   "metadata": {},
   "outputs": [
    {
     "data": {
      "image/png": "[encoded data removed]",
      "text/plain": [
       "<Figure size 1440x576 with 2 Axes>"
      ]
     },
     "metadata": {
      "needs_background": "light"
     },
     "output_type": "display_data"
    }
   ],
   "source": [
    "#plotting bar graph\n",
    "fig = plt.figure(figsize = (20,8))\n",
    "ax = fig.add_subplot(1,2,1)\n",
    "(race_table.div(race_table.sum(axis = 1),axis = 0)*100).sort_values(by = '<=50K').plot(kind = 'bar',ax =ax, color=['green','red']);\n",
    "plt.xlabel('Race',fontsize = 16);\n",
    "plt.ylabel('Proportion of People',fontsize = 16);\n",
    "ax = fig.add_subplot(1,2,2)\n",
    "(sex_table.div(sex_table.sum(axis = 1),axis = 0)*100).sort_values(by = '<=50K').plot(kind = 'bar',ax =ax, color=['green','red']);\n",
    "plt.xlabel('Sex',fontsize = 16);\n",
    "plt.ylabel('Proportion of People',fontsize = 16);"
   ]
  },
  {
   "cell_type": "code",
   "execution_count": 29,
   "id": "8745448a",
   "metadata": {},
   "outputs": [
    {
     "data": {
      "image/png": "[encoded data removed]",
      "text/plain": [
       "<Figure size 1440x576 with 1 Axes>"
      ]
     },
     "metadata": {
      "needs_background": "light"
     },
     "output_type": "display_data"
    }
   ],
   "source": [
    "#plotting bar graph\n",
    "country_table = pd.crosstab(df['native.country'],df['income'])\n",
    "(country_table.div(country_table.sum(axis = 1),axis = 0)*100).sort_values(by = '<=50K').plot(kind = 'bar',stacked = True,figsize = (20,8), color=['green','red']);\n",
    "plt.xlabel('Native Country',fontsize = 16);\n",
    "plt.ylabel('Proportion of People',fontsize = 16);"
   ]
  },
  {
   "cell_type": "code",
   "execution_count": 30,
   "id": "c735ed98",
   "metadata": {},
   "outputs": [
    {
     "data": {
      "image/png": "[encoded data removed]",
      "text/plain": [
       "<Figure size 864x432 with 2 Axes>"
      ]
     },
     "metadata": {
      "needs_background": "light"
     },
     "output_type": "display_data"
    }
   ],
   "source": [
    "fig = plt.figure(figsize = (12,6))\n",
    "\n",
    "sns.heatmap(df[list(num_column.index)].corr(),annot = True,square = True);\n"
   ]
  },
  {
   "cell_type": "code",
   "execution_count": 31,
   "id": "6dff12d9",
   "metadata": {},
   "outputs": [],
   "source": [
    "df.drop(['age','fnlwgt','education.num','capital.gain','capital.loss','hours.per.week'], axis = 1, inplace = True)"
   ]
  },
  {
   "cell_type": "code",
   "execution_count": 32,
   "id": "d5610ea0",
   "metadata": {},
   "outputs": [
    {
     "name": "stdout",
     "output_type": "stream",
     "text": [
      "<class 'pandas.core.frame.DataFrame'>\n",
      "RangeIndex: 32561 entries, 0 to 32560\n",
      "Data columns (total 9 columns):\n",
      " #   Column          Non-Null Count  Dtype \n",
      "---  ------          --------------  ----- \n",
      " 0   workclass       32561 non-null  object\n",
      " 1   education       32561 non-null  object\n",
      " 2   marital.status  32561 non-null  object\n",
      " 3   occupation      32561 non-null  object\n",
      " 4   relationship    32561 non-null  object\n",
      " 5   race            32561 non-null  object\n",
      " 6   sex             32561 non-null  object\n",
      " 7   native.country  32561 non-null  object\n",
      " 8   income          32561 non-null  object\n",
      "dtypes: object(9)\n",
      "memory usage: 2.2+ MB\n"
     ]
    }
   ],
   "source": [
    "df.info()"
   ]
  },
  {
   "cell_type": "code",
   "execution_count": 33,
   "id": "d034b3e4",
   "metadata": {},
   "outputs": [],
   "source": [
    "df['income'] = df['income'].map({'<=50K': 0, '>50K': 1}).astype(int)"
   ]
  },
  {
   "cell_type": "code",
   "execution_count": 34,
   "id": "fb27d45a",
   "metadata": {},
   "outputs": [],
   "source": [
    "df['sex'] = df['sex'].map({'Male': 0, 'Female': 1}).astype(int)"
   ]
  },
  {
   "cell_type": "code",
   "execution_count": 35,
   "id": "96b8719c",
   "metadata": {},
   "outputs": [],
   "source": [
    "df['race'] = df['race'].map({'Black': 0, 'Asian-Pac-Islander': 1, 'Other': 2, 'White': 3, \n",
    "                                             'Amer-Indian-Eskimo': 4}).astype(int)"
   ]
  },
  {
   "cell_type": "code",
   "execution_count": 36,
   "id": "0c1c047d",
   "metadata": {},
   "outputs": [
    {
     "data": {
      "text/plain": [
       "{'Married', 'Separated', 'Single', 'Widowed'}"
      ]
     },
     "execution_count": 36,
     "metadata": {},
     "output_type": "execute_result"
    }
   ],
   "source": [
    "marital = set(df['marital.status'])\n",
    "marital"
   ]
  },
  {
   "cell_type": "code",
   "execution_count": 37,
   "id": "637c2dc0",
   "metadata": {},
   "outputs": [],
   "source": [
    "df['marital.status'] = df['marital.status'].map({'Married': 0, 'Separated': 1, \n",
    "                                                             'Single': 2, 'Widowed': 3}).astype(int)"
   ]
  },
  {
   "cell_type": "code",
   "execution_count": 38,
   "id": "cfa1db4c",
   "metadata": {},
   "outputs": [
    {
     "name": "stdout",
     "output_type": "stream",
     "text": [
      "{'null', 'Without-pay', 'Self-Employed', 'Unemployed', 'Govt-Employees', 'Private'}\n"
     ]
    }
   ],
   "source": [
    "emp = set(df['workclass'])\n",
    "print(emp)"
   ]
  },
  {
   "cell_type": "code",
   "execution_count": 39,
   "id": "f0831570",
   "metadata": {},
   "outputs": [],
   "source": [
    "df['workclass'] = df['workclass'].map({'Unemployed': 0, 'Private': 1, \n",
    "                                                             'Govt-Employees': 2, 'Self-Employed': 3, 'null': 4, \n",
    "                                                             'Without-pay': 5}).astype(int)"
   ]
  },
  {
   "cell_type": "code",
   "execution_count": 40,
   "id": "41dc17a2",
   "metadata": {},
   "outputs": [
    {
     "name": "stdout",
     "output_type": "stream",
     "text": [
      "{'Some-college', 'Assoc-acdm', 'Prof-school', 'Post-Graduates', 'Undergraduates', 'Schooling', 'Assoc-voc', 'Doctorate'}\n"
     ]
    }
   ],
   "source": [
    "ed = set(df['education'])\n",
    "print(ed)"
   ]
  },
  {
   "cell_type": "code",
   "execution_count": 41,
   "id": "7f7d98db",
   "metadata": {},
   "outputs": [],
   "source": [
    "df['education'] = df['education'].map({'Assoc-voc': 0, 'Schooling': 1, \n",
    "                                                        'Assoc-acdm': 2, 'Post-Graduates': 3, 'Doctorate': 4, \n",
    "                                                        'Some-college': 5, 'Prof-school': 6, 'Undergraduates': 7}).astype(int)"
   ]
  },
  {
   "cell_type": "code",
   "execution_count": 42,
   "id": "9d900b89",
   "metadata": {},
   "outputs": [
    {
     "name": "stdout",
     "output_type": "stream",
     "text": [
      "{'null', 'Armed-Forces', 'Other-service', 'Tech-support', 'Priv-house-serv', 'Craft-repair', 'Farming-fishing', 'Exec-managerial', 'Transport-moving', 'Handlers-cleaners', 'Machine-op-inspct', 'Sales', 'Protective-serv', 'Adm-clerical', 'Prof-specialty'}\n"
     ]
    }
   ],
   "source": [
    "occupation = set(df['occupation'])\n",
    "print(occupation)"
   ]
  },
  {
   "cell_type": "code",
   "execution_count": 43,
   "id": "871bbdd7",
   "metadata": {},
   "outputs": [],
   "source": [
    "df['occupation'] = df['occupation'].map({ 'Transport-moving': 1, 'Protective-serv': 2, \n",
    "                                          'Craft-repair': 3, 'Prof-specialty': 4, \n",
    "                                         'Machine-op-inspct': 5,'Tech-support': 6, \n",
    "                                         'Exec-managerial': 7, \n",
    "                                         'Farming-fishing': 8,\n",
    "                                         'Priv-house-serv': 9, \n",
    "                                         'Handlers-cleaners': 10, \n",
    "                                         'Other-service': 11, \n",
    "                                         'Armed-Forces': 12, \n",
    "                                         'null': 13,  \n",
    "                                         'Adm-clerical': 14, 'Sales': 15}).astype(int)"
   ]
  },
  {
   "cell_type": "code",
   "execution_count": 44,
   "id": "8e1faca4",
   "metadata": {},
   "outputs": [
    {
     "name": "stdout",
     "output_type": "stream",
     "text": [
      "{'Unmarried', 'Husband', 'Other-relative', 'Wife', 'Own-child', 'Not-in-family'}\n"
     ]
    }
   ],
   "source": [
    "relationship = set(df['relationship'])\n",
    "print(relationship)"
   ]
  },
  {
   "cell_type": "code",
   "execution_count": 45,
   "id": "07d26d01",
   "metadata": {},
   "outputs": [],
   "source": [
    "df['relationship'] = df['relationship'].map({'Own-child': 0, 'Not-in-family': 1, \n",
    "                                                             'Wife': 2, \n",
    "                                                             'Husband': 3, \n",
    "                                                             'Unmarried': 4, \n",
    "                                                             'Other-relative': 5}).astype(int)"
   ]
  },
  {
   "cell_type": "code",
   "execution_count": 46,
   "id": "7e2dce3a",
   "metadata": {
    "scrolled": false
   },
   "outputs": [
    {
     "data": {
      "text/html": [
       "<div>\n",
       "<style scoped>\n",
       "    .dataframe tbody tr th:only-of-type {\n",
       "        vertical-align: middle;\n",
       "    }\n",
       "\n",
       "    .dataframe tbody tr th {\n",
       "        vertical-align: top;\n",
       "    }\n",
       "\n",
       "    .dataframe thead th {\n",
       "        text-align: right;\n",
       "    }\n",
       "</style>\n",
       "<table border=\"1\" class=\"dataframe\">\n",
       "  <thead>\n",
       "    <tr style=\"text-align: right;\">\n",
       "      <th></th>\n",
       "      <th>workclass</th>\n",
       "      <th>education</th>\n",
       "      <th>marital.status</th>\n",
       "      <th>occupation</th>\n",
       "      <th>relationship</th>\n",
       "      <th>race</th>\n",
       "      <th>sex</th>\n",
       "      <th>native.country</th>\n",
       "      <th>income</th>\n",
       "    </tr>\n",
       "  </thead>\n",
       "  <tbody>\n",
       "    <tr>\n",
       "      <th>0</th>\n",
       "      <td>4</td>\n",
       "      <td>1</td>\n",
       "      <td>3</td>\n",
       "      <td>13</td>\n",
       "      <td>1</td>\n",
       "      <td>3</td>\n",
       "      <td>1</td>\n",
       "      <td>United-States</td>\n",
       "      <td>0</td>\n",
       "    </tr>\n",
       "    <tr>\n",
       "      <th>1</th>\n",
       "      <td>1</td>\n",
       "      <td>1</td>\n",
       "      <td>3</td>\n",
       "      <td>7</td>\n",
       "      <td>1</td>\n",
       "      <td>3</td>\n",
       "      <td>1</td>\n",
       "      <td>United-States</td>\n",
       "      <td>0</td>\n",
       "    </tr>\n",
       "    <tr>\n",
       "      <th>2</th>\n",
       "      <td>4</td>\n",
       "      <td>5</td>\n",
       "      <td>3</td>\n",
       "      <td>13</td>\n",
       "      <td>4</td>\n",
       "      <td>0</td>\n",
       "      <td>1</td>\n",
       "      <td>United-States</td>\n",
       "      <td>0</td>\n",
       "    </tr>\n",
       "    <tr>\n",
       "      <th>3</th>\n",
       "      <td>1</td>\n",
       "      <td>1</td>\n",
       "      <td>1</td>\n",
       "      <td>5</td>\n",
       "      <td>4</td>\n",
       "      <td>3</td>\n",
       "      <td>1</td>\n",
       "      <td>United-States</td>\n",
       "      <td>0</td>\n",
       "    </tr>\n",
       "    <tr>\n",
       "      <th>4</th>\n",
       "      <td>1</td>\n",
       "      <td>5</td>\n",
       "      <td>1</td>\n",
       "      <td>4</td>\n",
       "      <td>0</td>\n",
       "      <td>3</td>\n",
       "      <td>1</td>\n",
       "      <td>United-States</td>\n",
       "      <td>0</td>\n",
       "    </tr>\n",
       "    <tr>\n",
       "      <th>...</th>\n",
       "      <td>...</td>\n",
       "      <td>...</td>\n",
       "      <td>...</td>\n",
       "      <td>...</td>\n",
       "      <td>...</td>\n",
       "      <td>...</td>\n",
       "      <td>...</td>\n",
       "      <td>...</td>\n",
       "      <td>...</td>\n",
       "    </tr>\n",
       "    <tr>\n",
       "      <th>32556</th>\n",
       "      <td>1</td>\n",
       "      <td>5</td>\n",
       "      <td>2</td>\n",
       "      <td>2</td>\n",
       "      <td>1</td>\n",
       "      <td>3</td>\n",
       "      <td>0</td>\n",
       "      <td>United-States</td>\n",
       "      <td>0</td>\n",
       "    </tr>\n",
       "    <tr>\n",
       "      <th>32557</th>\n",
       "      <td>1</td>\n",
       "      <td>2</td>\n",
       "      <td>0</td>\n",
       "      <td>6</td>\n",
       "      <td>2</td>\n",
       "      <td>3</td>\n",
       "      <td>1</td>\n",
       "      <td>United-States</td>\n",
       "      <td>0</td>\n",
       "    </tr>\n",
       "    <tr>\n",
       "      <th>32558</th>\n",
       "      <td>1</td>\n",
       "      <td>1</td>\n",
       "      <td>0</td>\n",
       "      <td>5</td>\n",
       "      <td>3</td>\n",
       "      <td>3</td>\n",
       "      <td>0</td>\n",
       "      <td>United-States</td>\n",
       "      <td>1</td>\n",
       "    </tr>\n",
       "    <tr>\n",
       "      <th>32559</th>\n",
       "      <td>1</td>\n",
       "      <td>1</td>\n",
       "      <td>3</td>\n",
       "      <td>14</td>\n",
       "      <td>4</td>\n",
       "      <td>3</td>\n",
       "      <td>1</td>\n",
       "      <td>United-States</td>\n",
       "      <td>0</td>\n",
       "    </tr>\n",
       "    <tr>\n",
       "      <th>32560</th>\n",
       "      <td>1</td>\n",
       "      <td>1</td>\n",
       "      <td>2</td>\n",
       "      <td>14</td>\n",
       "      <td>0</td>\n",
       "      <td>3</td>\n",
       "      <td>0</td>\n",
       "      <td>United-States</td>\n",
       "      <td>0</td>\n",
       "    </tr>\n",
       "  </tbody>\n",
       "</table>\n",
       "<p>32561 rows × 9 columns</p>\n",
       "</div>"
      ],
      "text/plain": [
       "       workclass  education  marital.status  occupation  relationship  race  \\\n",
       "0              4          1               3          13             1     3   \n",
       "1              1          1               3           7             1     3   \n",
       "2              4          5               3          13             4     0   \n",
       "3              1          1               1           5             4     3   \n",
       "4              1          5               1           4             0     3   \n",
       "...          ...        ...             ...         ...           ...   ...   \n",
       "32556          1          5               2           2             1     3   \n",
       "32557          1          2               0           6             2     3   \n",
       "32558          1          1               0           5             3     3   \n",
       "32559          1          1               3          14             4     3   \n",
       "32560          1          1               2          14             0     3   \n",
       "\n",
       "       sex native.country  income  \n",
       "0        1  United-States       0  \n",
       "1        1  United-States       0  \n",
       "2        1  United-States       0  \n",
       "3        1  United-States       0  \n",
       "4        1  United-States       0  \n",
       "...    ...            ...     ...  \n",
       "32556    0  United-States       0  \n",
       "32557    1  United-States       0  \n",
       "32558    0  United-States       1  \n",
       "32559    1  United-States       0  \n",
       "32560    0  United-States       0  \n",
       "\n",
       "[32561 rows x 9 columns]"
      ]
     },
     "execution_count": 46,
     "metadata": {},
     "output_type": "execute_result"
    }
   ],
   "source": [
    "df"
   ]
  },
  {
   "cell_type": "code",
   "execution_count": 47,
   "id": "b35d6d26",
   "metadata": {},
   "outputs": [],
   "source": [
    "df.drop(['native.country'], axis = 1, inplace = True)"
   ]
  },
  {
   "cell_type": "code",
   "execution_count": 48,
   "id": "d97255e2",
   "metadata": {},
   "outputs": [
    {
     "data": {
      "text/html": [
       "<div>\n",
       "<style scoped>\n",
       "    .dataframe tbody tr th:only-of-type {\n",
       "        vertical-align: middle;\n",
       "    }\n",
       "\n",
       "    .dataframe tbody tr th {\n",
       "        vertical-align: top;\n",
       "    }\n",
       "\n",
       "    .dataframe thead th {\n",
       "        text-align: right;\n",
       "    }\n",
       "</style>\n",
       "<table border=\"1\" class=\"dataframe\">\n",
       "  <thead>\n",
       "    <tr style=\"text-align: right;\">\n",
       "      <th></th>\n",
       "      <th>workclass</th>\n",
       "      <th>education</th>\n",
       "      <th>marital.status</th>\n",
       "      <th>occupation</th>\n",
       "      <th>relationship</th>\n",
       "      <th>race</th>\n",
       "      <th>sex</th>\n",
       "      <th>income</th>\n",
       "    </tr>\n",
       "  </thead>\n",
       "  <tbody>\n",
       "    <tr>\n",
       "      <th>0</th>\n",
       "      <td>4</td>\n",
       "      <td>1</td>\n",
       "      <td>3</td>\n",
       "      <td>13</td>\n",
       "      <td>1</td>\n",
       "      <td>3</td>\n",
       "      <td>1</td>\n",
       "      <td>0</td>\n",
       "    </tr>\n",
       "    <tr>\n",
       "      <th>1</th>\n",
       "      <td>1</td>\n",
       "      <td>1</td>\n",
       "      <td>3</td>\n",
       "      <td>7</td>\n",
       "      <td>1</td>\n",
       "      <td>3</td>\n",
       "      <td>1</td>\n",
       "      <td>0</td>\n",
       "    </tr>\n",
       "    <tr>\n",
       "      <th>2</th>\n",
       "      <td>4</td>\n",
       "      <td>5</td>\n",
       "      <td>3</td>\n",
       "      <td>13</td>\n",
       "      <td>4</td>\n",
       "      <td>0</td>\n",
       "      <td>1</td>\n",
       "      <td>0</td>\n",
       "    </tr>\n",
       "    <tr>\n",
       "      <th>3</th>\n",
       "      <td>1</td>\n",
       "      <td>1</td>\n",
       "      <td>1</td>\n",
       "      <td>5</td>\n",
       "      <td>4</td>\n",
       "      <td>3</td>\n",
       "      <td>1</td>\n",
       "      <td>0</td>\n",
       "    </tr>\n",
       "    <tr>\n",
       "      <th>4</th>\n",
       "      <td>1</td>\n",
       "      <td>5</td>\n",
       "      <td>1</td>\n",
       "      <td>4</td>\n",
       "      <td>0</td>\n",
       "      <td>3</td>\n",
       "      <td>1</td>\n",
       "      <td>0</td>\n",
       "    </tr>\n",
       "    <tr>\n",
       "      <th>...</th>\n",
       "      <td>...</td>\n",
       "      <td>...</td>\n",
       "      <td>...</td>\n",
       "      <td>...</td>\n",
       "      <td>...</td>\n",
       "      <td>...</td>\n",
       "      <td>...</td>\n",
       "      <td>...</td>\n",
       "    </tr>\n",
       "    <tr>\n",
       "      <th>32556</th>\n",
       "      <td>1</td>\n",
       "      <td>5</td>\n",
       "      <td>2</td>\n",
       "      <td>2</td>\n",
       "      <td>1</td>\n",
       "      <td>3</td>\n",
       "      <td>0</td>\n",
       "      <td>0</td>\n",
       "    </tr>\n",
       "    <tr>\n",
       "      <th>32557</th>\n",
       "      <td>1</td>\n",
       "      <td>2</td>\n",
       "      <td>0</td>\n",
       "      <td>6</td>\n",
       "      <td>2</td>\n",
       "      <td>3</td>\n",
       "      <td>1</td>\n",
       "      <td>0</td>\n",
       "    </tr>\n",
       "    <tr>\n",
       "      <th>32558</th>\n",
       "      <td>1</td>\n",
       "      <td>1</td>\n",
       "      <td>0</td>\n",
       "      <td>5</td>\n",
       "      <td>3</td>\n",
       "      <td>3</td>\n",
       "      <td>0</td>\n",
       "      <td>1</td>\n",
       "    </tr>\n",
       "    <tr>\n",
       "      <th>32559</th>\n",
       "      <td>1</td>\n",
       "      <td>1</td>\n",
       "      <td>3</td>\n",
       "      <td>14</td>\n",
       "      <td>4</td>\n",
       "      <td>3</td>\n",
       "      <td>1</td>\n",
       "      <td>0</td>\n",
       "    </tr>\n",
       "    <tr>\n",
       "      <th>32560</th>\n",
       "      <td>1</td>\n",
       "      <td>1</td>\n",
       "      <td>2</td>\n",
       "      <td>14</td>\n",
       "      <td>0</td>\n",
       "      <td>3</td>\n",
       "      <td>0</td>\n",
       "      <td>0</td>\n",
       "    </tr>\n",
       "  </tbody>\n",
       "</table>\n",
       "<p>32561 rows × 8 columns</p>\n",
       "</div>"
      ],
      "text/plain": [
       "       workclass  education  marital.status  occupation  relationship  race  \\\n",
       "0              4          1               3          13             1     3   \n",
       "1              1          1               3           7             1     3   \n",
       "2              4          5               3          13             4     0   \n",
       "3              1          1               1           5             4     3   \n",
       "4              1          5               1           4             0     3   \n",
       "...          ...        ...             ...         ...           ...   ...   \n",
       "32556          1          5               2           2             1     3   \n",
       "32557          1          2               0           6             2     3   \n",
       "32558          1          1               0           5             3     3   \n",
       "32559          1          1               3          14             4     3   \n",
       "32560          1          1               2          14             0     3   \n",
       "\n",
       "       sex  income  \n",
       "0        1       0  \n",
       "1        1       0  \n",
       "2        1       0  \n",
       "3        1       0  \n",
       "4        1       0  \n",
       "...    ...     ...  \n",
       "32556    0       0  \n",
       "32557    1       0  \n",
       "32558    0       1  \n",
       "32559    1       0  \n",
       "32560    0       0  \n",
       "\n",
       "[32561 rows x 8 columns]"
      ]
     },
     "execution_count": 48,
     "metadata": {},
     "output_type": "execute_result"
    }
   ],
   "source": [
    "df"
   ]
  },
  {
   "cell_type": "code",
   "execution_count": 49,
   "id": "7c9602df",
   "metadata": {},
   "outputs": [],
   "source": [
    "Y = df['income']\n",
    "X = df.drop(['income'], axis = 1)"
   ]
  },
  {
   "cell_type": "code",
   "execution_count": 50,
   "id": "db18ec17",
   "metadata": {},
   "outputs": [],
   "source": [
    "dfx = pd.DataFrame(X)\n",
    "dfy = pd.DataFrame(Y)"
   ]
  },
  {
   "cell_type": "code",
   "execution_count": 51,
   "id": "285f6d5c",
   "metadata": {
    "scrolled": true
   },
   "outputs": [
    {
     "name": "stdout",
     "output_type": "stream",
     "text": [
      "(24420, 7)\n",
      "(8141, 7)\n",
      "(24420, 1)\n",
      "(8141, 1)\n"
     ]
    }
   ],
   "source": [
    "# Splitting the data in the ratio 3:1 where 3 is for training data and 1 is for testing data\n",
    "X_train, X_test, Y_train, Y_test = train_test_split(dfx, dfy, test_size = 0.25, random_state = 42)\n",
    "print(X_train.shape)\n",
    "print(X_test.shape)\n",
    "print(Y_train.shape)\n",
    "print(Y_test.shape)"
   ]
  },
  {
   "cell_type": "markdown",
   "id": "76b15105",
   "metadata": {},
   "source": [
    "### Logistic Regression"
   ]
  },
  {
   "cell_type": "code",
   "execution_count": 52,
   "id": "c915877e",
   "metadata": {},
   "outputs": [],
   "source": [
    "# Using Logistic Regression\n",
    "operation1 = LogisticRegression()\n",
    "# Train our model with the training data\n",
    "operation1.fit(X_train, Y_train)\n",
    "Y_pred = operation1.predict(X_test)"
   ]
  },
  {
   "cell_type": "code",
   "execution_count": 53,
   "id": "f03287dc",
   "metadata": {},
   "outputs": [
    {
     "name": "stdout",
     "output_type": "stream",
     "text": [
      "Prediction Accuracy = 78.92150841419972\n"
     ]
    }
   ],
   "source": [
    "score1 = accuracy_score(Y_test, Y_pred)\n",
    "print(\"Prediction Accuracy = \" + str(score1*100))"
   ]
  },
  {
   "cell_type": "code",
   "execution_count": 54,
   "id": "dc09e674",
   "metadata": {},
   "outputs": [
    {
     "data": {
      "image/png": "[encoded data removed]",
      "text/plain": [
       "<Figure size 576x288 with 2 Axes>"
      ]
     },
     "metadata": {
      "needs_background": "light"
     },
     "output_type": "display_data"
    }
   ],
   "source": [
    "class_names = [0,1]\n",
    "fig, ax = plt.subplots(figsize=(8,4))\n",
    "plot_confusion_matrix(operation1, X_test, Y_test,cmap=plt.cm.Reds,labels=class_names,ax=ax,values_format = '.0f')\n",
    "plt.title('Confusion Matrix')\n",
    "plt.grid(False)\n",
    "plt.show()"
   ]
  },
  {
   "cell_type": "markdown",
   "id": "5f5309dd",
   "metadata": {},
   "source": [
    "### Decision Tree Classifier"
   ]
  },
  {
   "cell_type": "code",
   "execution_count": 58,
   "id": "b06b820f",
   "metadata": {},
   "outputs": [],
   "source": [
    "operation2 = DecisionTreeClassifier()\n",
    "operation2.fit(X_train, Y_train)\n",
    "Y_pred = operation2.predict(X_test)"
   ]
  },
  {
   "cell_type": "code",
   "execution_count": 59,
   "id": "663688b7",
   "metadata": {},
   "outputs": [
    {
     "name": "stdout",
     "output_type": "stream",
     "text": [
      "Prediction Accuracy = 82.01695123449207\n"
     ]
    }
   ],
   "source": [
    "score2 = accuracy_score(Y_test, Y_pred)\n",
    "print('Prediction Accuracy = ' + str(score2*100))"
   ]
  },
  {
   "cell_type": "code",
   "execution_count": 60,
   "id": "a1c541f3",
   "metadata": {},
   "outputs": [
    {
     "data": {
      "image/png": "[encoded data removed]",
      "text/plain": [
       "<Figure size 576x288 with 2 Axes>"
      ]
     },
     "metadata": {
      "needs_background": "light"
     },
     "output_type": "display_data"
    }
   ],
   "source": [
    "class_names = [0,1]\n",
    "fig, ax = plt.subplots(figsize=(8,4))\n",
    "plot_confusion_matrix(operation2, X_test, Y_test,cmap=plt.cm.Reds,labels=class_names,ax=ax,values_format = '.0f')\n",
    "plt.title('Confusion Matrix')\n",
    "plt.grid(False)\n",
    "plt.show()"
   ]
  },
  {
   "cell_type": "markdown",
   "id": "647794a2",
   "metadata": {},
   "source": [
    "### Naive Bayes Classifier"
   ]
  },
  {
   "cell_type": "code",
   "execution_count": 61,
   "id": "8f079fad",
   "metadata": {},
   "outputs": [],
   "source": [
    "operation3 = GaussianNB()\n",
    "operation3.fit(X_train, Y_train)\n",
    "Y_pred = operation3.predict(X_test)"
   ]
  },
  {
   "cell_type": "code",
   "execution_count": 62,
   "id": "6e919c37",
   "metadata": {},
   "outputs": [
    {
     "name": "stdout",
     "output_type": "stream",
     "text": [
      "Prediction Accuracy = 72.153298120624\n"
     ]
    }
   ],
   "source": [
    "score3 = accuracy_score(Y_test, Y_pred)\n",
    "print('Prediction Accuracy = ' + str(score3*100))"
   ]
  },
  {
   "cell_type": "code",
   "execution_count": 63,
   "id": "3366f4ea",
   "metadata": {},
   "outputs": [
    {
     "data": {
      "image/png": "[encoded data removed]",
      "text/plain": [
       "<Figure size 576x288 with 2 Axes>"
      ]
     },
     "metadata": {
      "needs_background": "light"
     },
     "output_type": "display_data"
    }
   ],
   "source": [
    "class_names = [0,1]\n",
    "fig, ax = plt.subplots(figsize=(8,4))\n",
    "plot_confusion_matrix(operation3, X_test, Y_test,cmap=plt.cm.Reds,labels=class_names,ax=ax,values_format = '.0f')\n",
    "plt.title('Confusion Matrix')\n",
    "plt.grid(False)\n",
    "plt.show()"
   ]
  },
  {
   "cell_type": "markdown",
   "id": "8a47c326",
   "metadata": {},
   "source": [
    "### Random Forest"
   ]
  },
  {
   "cell_type": "code",
   "execution_count": 64,
   "id": "64c00b31",
   "metadata": {},
   "outputs": [],
   "source": [
    "operation4 = RandomForestClassifier()\n",
    "operation4.fit(X_train, Y_train)\n",
    "Y_pred = operation4.predict(X_test)"
   ]
  },
  {
   "cell_type": "code",
   "execution_count": 65,
   "id": "0ade2134",
   "metadata": {},
   "outputs": [
    {
     "name": "stdout",
     "output_type": "stream",
     "text": [
      "Prediction Accuracy = 82.36088932563567\n"
     ]
    }
   ],
   "source": [
    "score4 = accuracy_score(Y_test, Y_pred)\n",
    "print('Prediction Accuracy = ' + str(score4*100))"
   ]
  },
  {
   "cell_type": "code",
   "execution_count": 66,
   "id": "2f2ef340",
   "metadata": {},
   "outputs": [
    {
     "data": {
      "image/png": "[encoded data removed]",
      "text/plain": [
       "<Figure size 576x288 with 2 Axes>"
      ]
     },
     "metadata": {
      "needs_background": "light"
     },
     "output_type": "display_data"
    }
   ],
   "source": [
    "class_names = [0,1]\n",
    "fig, ax = plt.subplots(figsize=(8,4))\n",
    "plot_confusion_matrix(operation4, X_test, Y_test,cmap=plt.cm.Reds,labels=class_names,ax=ax,values_format = '.0f')\n",
    "plt.title('Confusion Matrix')\n",
    "plt.grid(False)\n",
    "plt.show()"
   ]
  },
  {
   "cell_type": "markdown",
   "id": "f2c799dd",
   "metadata": {},
   "source": [
    "### Support Vector Machine"
   ]
  },
  {
   "cell_type": "code",
   "execution_count": 67,
   "id": "d6680358",
   "metadata": {},
   "outputs": [],
   "source": [
    "operation5 = SVC()\n",
    "operation5.fit(X_train, Y_train)\n",
    "Y_pred = operation5.predict(X_test)"
   ]
  },
  {
   "cell_type": "code",
   "execution_count": 68,
   "id": "63085c90",
   "metadata": {},
   "outputs": [
    {
     "name": "stdout",
     "output_type": "stream",
     "text": [
      "Prediction Accuracy = 80.75175039921385\n"
     ]
    }
   ],
   "source": [
    "score5 = accuracy_score(Y_test, Y_pred)\n",
    "print('Prediction Accuracy = ' + str(score5*100))"
   ]
  },
  {
   "cell_type": "code",
   "execution_count": 69,
   "id": "78e4da93",
   "metadata": {},
   "outputs": [
    {
     "data": {
      "image/png": "[encoded data removed]",
      "text/plain": [
       "<Figure size 576x288 with 2 Axes>"
      ]
     },
     "metadata": {
      "needs_background": "light"
     },
     "output_type": "display_data"
    }
   ],
   "source": [
    "class_names = [0,1]\n",
    "fig, ax = plt.subplots(figsize=(8,4))\n",
    "plot_confusion_matrix(operation5, X_test, Y_test,cmap=plt.cm.Reds,labels=class_names,ax=ax,values_format = '.0f')\n",
    "plt.title('Confusion Matrix')\n",
    "plt.grid(False)\n",
    "plt.show()"
   ]
  },
  {
   "cell_type": "markdown",
   "id": "bb51e370",
   "metadata": {},
   "source": [
    "Hence Random Forest Algorithm gives the best accuracy score"
   ]
  },
  {
   "cell_type": "markdown",
   "id": "6ee68fec",
   "metadata": {},
   "source": [
    "## Fine Tuning the Model"
   ]
  },
  {
   "cell_type": "code",
   "execution_count": 70,
   "id": "2c368623",
   "metadata": {},
   "outputs": [],
   "source": [
    "n_estimators = [int(x) for x in np.linspace(start = 10, stop = 100, num = 10)]\n",
    "max_features = ['auto', 'sqrt']\n",
    "max_depth = [2,4]\n",
    "min_samples_split = [2, 5]\n",
    "min_samples_leaf = [1, 2]\n",
    "param_grid = {'n_estimators': n_estimators,\n",
    "               'max_features': max_features,\n",
    "               'max_depth': max_depth,\n",
    "               'min_samples_split': min_samples_split,\n",
    "               'min_samples_leaf': min_samples_leaf\n",
    "             }"
   ]
  },
  {
   "cell_type": "code",
   "execution_count": 71,
   "id": "ab0a3331",
   "metadata": {},
   "outputs": [],
   "source": [
    "operation6 = RandomForestClassifier()"
   ]
  },
  {
   "cell_type": "code",
   "execution_count": 72,
   "id": "e70409aa",
   "metadata": {
    "scrolled": false
   },
   "outputs": [
    {
     "name": "stdout",
     "output_type": "stream",
     "text": [
      "Fitting 3 folds for each of 160 candidates, totalling 480 fits\n",
      "[CV] END max_depth=2, max_features=auto, min_samples_leaf=1, min_samples_split=2, n_estimators=10; total time=   0.0s\n",
      "[CV] END max_depth=2, max_features=auto, min_samples_leaf=1, min_samples_split=2, n_estimators=10; total time=   0.0s\n",
      "[CV] END max_depth=2, max_features=auto, min_samples_leaf=1, min_samples_split=2, n_estimators=10; total time=   0.0s\n",
      "[CV] END max_depth=2, max_features=auto, min_samples_leaf=1, min_samples_split=2, n_estimators=20; total time=   0.0s\n",
      "[CV] END max_depth=2, max_features=auto, min_samples_leaf=1, min_samples_split=2, n_estimators=20; total time=   0.0s\n",
      "[CV] END max_depth=2, max_features=auto, min_samples_leaf=1, min_samples_split=2, n_estimators=20; total time=   0.0s\n",
      "[CV] END max_depth=2, max_features=auto, min_samples_leaf=1, min_samples_split=2, n_estimators=30; total time=   0.1s\n",
      "[CV] END max_depth=2, max_features=auto, min_samples_leaf=1, min_samples_split=2, n_estimators=30; total time=   0.1s\n",
      "[CV] END max_depth=2, max_features=auto, min_samples_leaf=1, min_samples_split=2, n_estimators=30; total time=   0.1s\n",
      "[CV] END max_depth=2, max_features=auto, min_samples_leaf=1, min_samples_split=2, n_estimators=40; total time=   0.1s\n",
      "[CV] END max_depth=2, max_features=auto, min_samples_leaf=1, min_samples_split=2, n_estimators=40; total time=   0.1s\n",
      "[CV] END max_depth=2, max_features=auto, min_samples_leaf=1, min_samples_split=2, n_estimators=40; total time=   0.1s\n",
      "[CV] END max_depth=2, max_features=auto, min_samples_leaf=1, min_samples_split=2, n_estimators=50; total time=   0.1s\n",
      "[CV] END max_depth=2, max_features=auto, min_samples_leaf=1, min_samples_split=2, n_estimators=50; total time=   0.1s\n",
      "[CV] END max_depth=2, max_features=auto, min_samples_leaf=1, min_samples_split=2, n_estimators=50; total time=   0.1s\n",
      "[CV] END max_depth=2, max_features=auto, min_samples_leaf=1, min_samples_split=2, n_estimators=60; total time=   0.1s\n",
      "[CV] END max_depth=2, max_features=auto, min_samples_leaf=1, min_samples_split=2, n_estimators=60; total time=   0.1s\n",
      "[CV] END max_depth=2, max_features=auto, min_samples_leaf=1, min_samples_split=2, n_estimators=60; total time=   0.1s\n",
      "[CV] END max_depth=2, max_features=auto, min_samples_leaf=1, min_samples_split=2, n_estimators=70; total time=   0.1s\n",
      "[CV] END max_depth=2, max_features=auto, min_samples_leaf=1, min_samples_split=2, n_estimators=70; total time=   0.1s\n",
      "[CV] END max_depth=2, max_features=auto, min_samples_leaf=1, min_samples_split=2, n_estimators=70; total time=   0.1s\n",
      "[CV] END max_depth=2, max_features=auto, min_samples_leaf=1, min_samples_split=2, n_estimators=80; total time=   0.2s\n",
      "[CV] END max_depth=2, max_features=auto, min_samples_leaf=1, min_samples_split=2, n_estimators=80; total time=   0.2s\n",
      "[CV] END max_depth=2, max_features=auto, min_samples_leaf=1, min_samples_split=2, n_estimators=80; total time=   0.2s\n",
      "[CV] END max_depth=2, max_features=auto, min_samples_leaf=1, min_samples_split=2, n_estimators=90; total time=   0.2s\n",
      "[CV] END max_depth=2, max_features=auto, min_samples_leaf=1, min_samples_split=2, n_estimators=90; total time=   0.2s\n",
      "[CV] END max_depth=2, max_features=auto, min_samples_leaf=1, min_samples_split=2, n_estimators=90; total time=   0.2s\n",
      "[CV] END max_depth=2, max_features=auto, min_samples_leaf=1, min_samples_split=2, n_estimators=100; total time=   0.2s\n",
      "[CV] END max_depth=2, max_features=auto, min_samples_leaf=1, min_samples_split=2, n_estimators=100; total time=   0.2s\n",
      "[CV] END max_depth=2, max_features=auto, min_samples_leaf=1, min_samples_split=2, n_estimators=100; total time=   0.2s\n",
      "[CV] END max_depth=2, max_features=auto, min_samples_leaf=1, min_samples_split=5, n_estimators=10; total time=   0.0s\n",
      "[CV] END max_depth=2, max_features=auto, min_samples_leaf=1, min_samples_split=5, n_estimators=10; total time=   0.0s\n",
      "[CV] END max_depth=2, max_features=auto, min_samples_leaf=1, min_samples_split=5, n_estimators=10; total time=   0.0s\n",
      "[CV] END max_depth=2, max_features=auto, min_samples_leaf=1, min_samples_split=5, n_estimators=20; total time=   0.0s\n",
      "[CV] END max_depth=2, max_features=auto, min_samples_leaf=1, min_samples_split=5, n_estimators=20; total time=   0.0s\n",
      "[CV] END max_depth=2, max_features=auto, min_samples_leaf=1, min_samples_split=5, n_estimators=20; total time=   0.0s\n",
      "[CV] END max_depth=2, max_features=auto, min_samples_leaf=1, min_samples_split=5, n_estimators=30; total time=   0.1s\n",
      "[CV] END max_depth=2, max_features=auto, min_samples_leaf=1, min_samples_split=5, n_estimators=30; total time=   0.1s\n",
      "[CV] END max_depth=2, max_features=auto, min_samples_leaf=1, min_samples_split=5, n_estimators=30; total time=   0.1s\n",
      "[CV] END max_depth=2, max_features=auto, min_samples_leaf=1, min_samples_split=5, n_estimators=40; total time=   0.1s\n",
      "[CV] END max_depth=2, max_features=auto, min_samples_leaf=1, min_samples_split=5, n_estimators=40; total time=   0.1s\n",
      "[CV] END max_depth=2, max_features=auto, min_samples_leaf=1, min_samples_split=5, n_estimators=40; total time=   0.1s\n",
      "[CV] END max_depth=2, max_features=auto, min_samples_leaf=1, min_samples_split=5, n_estimators=50; total time=   0.1s\n",
      "[CV] END max_depth=2, max_features=auto, min_samples_leaf=1, min_samples_split=5, n_estimators=50; total time=   0.1s\n",
      "[CV] END max_depth=2, max_features=auto, min_samples_leaf=1, min_samples_split=5, n_estimators=50; total time=   0.1s\n",
      "[CV] END max_depth=2, max_features=auto, min_samples_leaf=1, min_samples_split=5, n_estimators=60; total time=   0.1s\n",
      "[CV] END max_depth=2, max_features=auto, min_samples_leaf=1, min_samples_split=5, n_estimators=60; total time=   0.1s\n",
      "[CV] END max_depth=2, max_features=auto, min_samples_leaf=1, min_samples_split=5, n_estimators=60; total time=   0.1s\n",
      "[CV] END max_depth=2, max_features=auto, min_samples_leaf=1, min_samples_split=5, n_estimators=70; total time=   0.1s\n",
      "[CV] END max_depth=2, max_features=auto, min_samples_leaf=1, min_samples_split=5, n_estimators=70; total time=   0.1s\n",
      "[CV] END max_depth=2, max_features=auto, min_samples_leaf=1, min_samples_split=5, n_estimators=70; total time=   0.1s\n",
      "[CV] END max_depth=2, max_features=auto, min_samples_leaf=1, min_samples_split=5, n_estimators=80; total time=   0.2s\n",
      "[CV] END max_depth=2, max_features=auto, min_samples_leaf=1, min_samples_split=5, n_estimators=80; total time=   0.2s\n",
      "[CV] END max_depth=2, max_features=auto, min_samples_leaf=1, min_samples_split=5, n_estimators=80; total time=   0.2s\n",
      "[CV] END max_depth=2, max_features=auto, min_samples_leaf=1, min_samples_split=5, n_estimators=90; total time=   0.2s\n",
      "[CV] END max_depth=2, max_features=auto, min_samples_leaf=1, min_samples_split=5, n_estimators=90; total time=   0.2s\n",
      "[CV] END max_depth=2, max_features=auto, min_samples_leaf=1, min_samples_split=5, n_estimators=90; total time=   0.2s\n",
      "[CV] END max_depth=2, max_features=auto, min_samples_leaf=1, min_samples_split=5, n_estimators=100; total time=   0.2s\n",
      "[CV] END max_depth=2, max_features=auto, min_samples_leaf=1, min_samples_split=5, n_estimators=100; total time=   0.2s\n",
      "[CV] END max_depth=2, max_features=auto, min_samples_leaf=1, min_samples_split=5, n_estimators=100; total time=   0.2s\n",
      "[CV] END max_depth=2, max_features=auto, min_samples_leaf=2, min_samples_split=2, n_estimators=10; total time=   0.0s\n",
      "[CV] END max_depth=2, max_features=auto, min_samples_leaf=2, min_samples_split=2, n_estimators=10; total time=   0.0s\n",
      "[CV] END max_depth=2, max_features=auto, min_samples_leaf=2, min_samples_split=2, n_estimators=10; total time=   0.0s\n",
      "[CV] END max_depth=2, max_features=auto, min_samples_leaf=2, min_samples_split=2, n_estimators=20; total time=   0.0s\n",
      "[CV] END max_depth=2, max_features=auto, min_samples_leaf=2, min_samples_split=2, n_estimators=20; total time=   0.0s\n",
      "[CV] END max_depth=2, max_features=auto, min_samples_leaf=2, min_samples_split=2, n_estimators=20; total time=   0.0s\n",
      "[CV] END max_depth=2, max_features=auto, min_samples_leaf=2, min_samples_split=2, n_estimators=30; total time=   0.1s\n",
      "[CV] END max_depth=2, max_features=auto, min_samples_leaf=2, min_samples_split=2, n_estimators=30; total time=   0.1s\n",
      "[CV] END max_depth=2, max_features=auto, min_samples_leaf=2, min_samples_split=2, n_estimators=30; total time=   0.1s\n"
     ]
    },
    {
     "name": "stdout",
     "output_type": "stream",
     "text": [
      "[CV] END max_depth=2, max_features=auto, min_samples_leaf=2, min_samples_split=2, n_estimators=40; total time=   0.1s\n",
      "[CV] END max_depth=2, max_features=auto, min_samples_leaf=2, min_samples_split=2, n_estimators=40; total time=   0.1s\n",
      "[CV] END max_depth=2, max_features=auto, min_samples_leaf=2, min_samples_split=2, n_estimators=40; total time=   0.1s\n",
      "[CV] END max_depth=2, max_features=auto, min_samples_leaf=2, min_samples_split=2, n_estimators=50; total time=   0.1s\n",
      "[CV] END max_depth=2, max_features=auto, min_samples_leaf=2, min_samples_split=2, n_estimators=50; total time=   0.1s\n",
      "[CV] END max_depth=2, max_features=auto, min_samples_leaf=2, min_samples_split=2, n_estimators=50; total time=   0.1s\n",
      "[CV] END max_depth=2, max_features=auto, min_samples_leaf=2, min_samples_split=2, n_estimators=60; total time=   0.1s\n",
      "[CV] END max_depth=2, max_features=auto, min_samples_leaf=2, min_samples_split=2, n_estimators=60; total time=   0.1s\n",
      "[CV] END max_depth=2, max_features=auto, min_samples_leaf=2, min_samples_split=2, n_estimators=60; total time=   0.1s\n",
      "[CV] END max_depth=2, max_features=auto, min_samples_leaf=2, min_samples_split=2, n_estimators=70; total time=   0.1s\n",
      "[CV] END max_depth=2, max_features=auto, min_samples_leaf=2, min_samples_split=2, n_estimators=70; total time=   0.1s\n",
      "[CV] END max_depth=2, max_features=auto, min_samples_leaf=2, min_samples_split=2, n_estimators=70; total time=   0.1s\n",
      "[CV] END max_depth=2, max_features=auto, min_samples_leaf=2, min_samples_split=2, n_estimators=80; total time=   0.2s\n",
      "[CV] END max_depth=2, max_features=auto, min_samples_leaf=2, min_samples_split=2, n_estimators=80; total time=   0.2s\n",
      "[CV] END max_depth=2, max_features=auto, min_samples_leaf=2, min_samples_split=2, n_estimators=80; total time=   0.2s\n",
      "[CV] END max_depth=2, max_features=auto, min_samples_leaf=2, min_samples_split=2, n_estimators=90; total time=   0.2s\n",
      "[CV] END max_depth=2, max_features=auto, min_samples_leaf=2, min_samples_split=2, n_estimators=90; total time=   0.2s\n",
      "[CV] END max_depth=2, max_features=auto, min_samples_leaf=2, min_samples_split=2, n_estimators=90; total time=   0.2s\n",
      "[CV] END max_depth=2, max_features=auto, min_samples_leaf=2, min_samples_split=2, n_estimators=100; total time=   0.2s\n",
      "[CV] END max_depth=2, max_features=auto, min_samples_leaf=2, min_samples_split=2, n_estimators=100; total time=   0.2s\n",
      "[CV] END max_depth=2, max_features=auto, min_samples_leaf=2, min_samples_split=2, n_estimators=100; total time=   0.2s\n",
      "[CV] END max_depth=2, max_features=auto, min_samples_leaf=2, min_samples_split=5, n_estimators=10; total time=   0.0s\n",
      "[CV] END max_depth=2, max_features=auto, min_samples_leaf=2, min_samples_split=5, n_estimators=10; total time=   0.0s\n",
      "[CV] END max_depth=2, max_features=auto, min_samples_leaf=2, min_samples_split=5, n_estimators=10; total time=   0.0s\n",
      "[CV] END max_depth=2, max_features=auto, min_samples_leaf=2, min_samples_split=5, n_estimators=20; total time=   0.0s\n",
      "[CV] END max_depth=2, max_features=auto, min_samples_leaf=2, min_samples_split=5, n_estimators=20; total time=   0.0s\n",
      "[CV] END max_depth=2, max_features=auto, min_samples_leaf=2, min_samples_split=5, n_estimators=20; total time=   0.0s\n",
      "[CV] END max_depth=2, max_features=auto, min_samples_leaf=2, min_samples_split=5, n_estimators=30; total time=   0.1s\n",
      "[CV] END max_depth=2, max_features=auto, min_samples_leaf=2, min_samples_split=5, n_estimators=30; total time=   0.1s\n",
      "[CV] END max_depth=2, max_features=auto, min_samples_leaf=2, min_samples_split=5, n_estimators=30; total time=   0.1s\n",
      "[CV] END max_depth=2, max_features=auto, min_samples_leaf=2, min_samples_split=5, n_estimators=40; total time=   0.1s\n",
      "[CV] END max_depth=2, max_features=auto, min_samples_leaf=2, min_samples_split=5, n_estimators=40; total time=   0.1s\n",
      "[CV] END max_depth=2, max_features=auto, min_samples_leaf=2, min_samples_split=5, n_estimators=40; total time=   0.1s\n",
      "[CV] END max_depth=2, max_features=auto, min_samples_leaf=2, min_samples_split=5, n_estimators=50; total time=   0.1s\n",
      "[CV] END max_depth=2, max_features=auto, min_samples_leaf=2, min_samples_split=5, n_estimators=50; total time=   0.1s\n",
      "[CV] END max_depth=2, max_features=auto, min_samples_leaf=2, min_samples_split=5, n_estimators=50; total time=   0.1s\n",
      "[CV] END max_depth=2, max_features=auto, min_samples_leaf=2, min_samples_split=5, n_estimators=60; total time=   0.1s\n",
      "[CV] END max_depth=2, max_features=auto, min_samples_leaf=2, min_samples_split=5, n_estimators=60; total time=   0.1s\n",
      "[CV] END max_depth=2, max_features=auto, min_samples_leaf=2, min_samples_split=5, n_estimators=60; total time=   0.1s\n",
      "[CV] END max_depth=2, max_features=auto, min_samples_leaf=2, min_samples_split=5, n_estimators=70; total time=   0.1s\n",
      "[CV] END max_depth=2, max_features=auto, min_samples_leaf=2, min_samples_split=5, n_estimators=70; total time=   0.1s\n",
      "[CV] END max_depth=2, max_features=auto, min_samples_leaf=2, min_samples_split=5, n_estimators=70; total time=   0.1s\n",
      "[CV] END max_depth=2, max_features=auto, min_samples_leaf=2, min_samples_split=5, n_estimators=80; total time=   0.2s\n",
      "[CV] END max_depth=2, max_features=auto, min_samples_leaf=2, min_samples_split=5, n_estimators=80; total time=   0.2s\n",
      "[CV] END max_depth=2, max_features=auto, min_samples_leaf=2, min_samples_split=5, n_estimators=80; total time=   0.2s\n",
      "[CV] END max_depth=2, max_features=auto, min_samples_leaf=2, min_samples_split=5, n_estimators=90; total time=   0.2s\n",
      "[CV] END max_depth=2, max_features=auto, min_samples_leaf=2, min_samples_split=5, n_estimators=90; total time=   0.2s\n",
      "[CV] END max_depth=2, max_features=auto, min_samples_leaf=2, min_samples_split=5, n_estimators=90; total time=   0.2s\n",
      "[CV] END max_depth=2, max_features=auto, min_samples_leaf=2, min_samples_split=5, n_estimators=100; total time=   0.2s\n",
      "[CV] END max_depth=2, max_features=auto, min_samples_leaf=2, min_samples_split=5, n_estimators=100; total time=   0.2s\n",
      "[CV] END max_depth=2, max_features=auto, min_samples_leaf=2, min_samples_split=5, n_estimators=100; total time=   0.2s\n",
      "[CV] END max_depth=2, max_features=sqrt, min_samples_leaf=1, min_samples_split=2, n_estimators=10; total time=   0.0s\n",
      "[CV] END max_depth=2, max_features=sqrt, min_samples_leaf=1, min_samples_split=2, n_estimators=10; total time=   0.0s\n",
      "[CV] END max_depth=2, max_features=sqrt, min_samples_leaf=1, min_samples_split=2, n_estimators=10; total time=   0.0s\n",
      "[CV] END max_depth=2, max_features=sqrt, min_samples_leaf=1, min_samples_split=2, n_estimators=20; total time=   0.0s\n",
      "[CV] END max_depth=2, max_features=sqrt, min_samples_leaf=1, min_samples_split=2, n_estimators=20; total time=   0.0s\n",
      "[CV] END max_depth=2, max_features=sqrt, min_samples_leaf=1, min_samples_split=2, n_estimators=20; total time=   0.0s\n",
      "[CV] END max_depth=2, max_features=sqrt, min_samples_leaf=1, min_samples_split=2, n_estimators=30; total time=   0.1s\n",
      "[CV] END max_depth=2, max_features=sqrt, min_samples_leaf=1, min_samples_split=2, n_estimators=30; total time=   0.1s\n",
      "[CV] END max_depth=2, max_features=sqrt, min_samples_leaf=1, min_samples_split=2, n_estimators=30; total time=   0.1s\n",
      "[CV] END max_depth=2, max_features=sqrt, min_samples_leaf=1, min_samples_split=2, n_estimators=40; total time=   0.1s\n",
      "[CV] END max_depth=2, max_features=sqrt, min_samples_leaf=1, min_samples_split=2, n_estimators=40; total time=   0.1s\n",
      "[CV] END max_depth=2, max_features=sqrt, min_samples_leaf=1, min_samples_split=2, n_estimators=40; total time=   0.1s\n",
      "[CV] END max_depth=2, max_features=sqrt, min_samples_leaf=1, min_samples_split=2, n_estimators=50; total time=   0.1s\n",
      "[CV] END max_depth=2, max_features=sqrt, min_samples_leaf=1, min_samples_split=2, n_estimators=50; total time=   0.1s\n",
      "[CV] END max_depth=2, max_features=sqrt, min_samples_leaf=1, min_samples_split=2, n_estimators=50; total time=   0.1s\n",
      "[CV] END max_depth=2, max_features=sqrt, min_samples_leaf=1, min_samples_split=2, n_estimators=60; total time=   0.1s\n",
      "[CV] END max_depth=2, max_features=sqrt, min_samples_leaf=1, min_samples_split=2, n_estimators=60; total time=   0.1s\n",
      "[CV] END max_depth=2, max_features=sqrt, min_samples_leaf=1, min_samples_split=2, n_estimators=60; total time=   0.1s\n",
      "[CV] END max_depth=2, max_features=sqrt, min_samples_leaf=1, min_samples_split=2, n_estimators=70; total time=   0.1s\n"
     ]
    },
    {
     "name": "stdout",
     "output_type": "stream",
     "text": [
      "[CV] END max_depth=2, max_features=sqrt, min_samples_leaf=1, min_samples_split=2, n_estimators=70; total time=   0.1s\n",
      "[CV] END max_depth=2, max_features=sqrt, min_samples_leaf=1, min_samples_split=2, n_estimators=70; total time=   0.1s\n",
      "[CV] END max_depth=2, max_features=sqrt, min_samples_leaf=1, min_samples_split=2, n_estimators=80; total time=   0.2s\n",
      "[CV] END max_depth=2, max_features=sqrt, min_samples_leaf=1, min_samples_split=2, n_estimators=80; total time=   0.2s\n",
      "[CV] END max_depth=2, max_features=sqrt, min_samples_leaf=1, min_samples_split=2, n_estimators=80; total time=   0.2s\n",
      "[CV] END max_depth=2, max_features=sqrt, min_samples_leaf=1, min_samples_split=2, n_estimators=90; total time=   0.2s\n",
      "[CV] END max_depth=2, max_features=sqrt, min_samples_leaf=1, min_samples_split=2, n_estimators=90; total time=   0.2s\n",
      "[CV] END max_depth=2, max_features=sqrt, min_samples_leaf=1, min_samples_split=2, n_estimators=90; total time=   0.2s\n",
      "[CV] END max_depth=2, max_features=sqrt, min_samples_leaf=1, min_samples_split=2, n_estimators=100; total time=   0.2s\n",
      "[CV] END max_depth=2, max_features=sqrt, min_samples_leaf=1, min_samples_split=2, n_estimators=100; total time=   0.2s\n",
      "[CV] END max_depth=2, max_features=sqrt, min_samples_leaf=1, min_samples_split=2, n_estimators=100; total time=   0.2s\n",
      "[CV] END max_depth=2, max_features=sqrt, min_samples_leaf=1, min_samples_split=5, n_estimators=10; total time=   0.0s\n",
      "[CV] END max_depth=2, max_features=sqrt, min_samples_leaf=1, min_samples_split=5, n_estimators=10; total time=   0.0s\n",
      "[CV] END max_depth=2, max_features=sqrt, min_samples_leaf=1, min_samples_split=5, n_estimators=10; total time=   0.0s\n",
      "[CV] END max_depth=2, max_features=sqrt, min_samples_leaf=1, min_samples_split=5, n_estimators=20; total time=   0.0s\n",
      "[CV] END max_depth=2, max_features=sqrt, min_samples_leaf=1, min_samples_split=5, n_estimators=20; total time=   0.0s\n",
      "[CV] END max_depth=2, max_features=sqrt, min_samples_leaf=1, min_samples_split=5, n_estimators=20; total time=   0.0s\n",
      "[CV] END max_depth=2, max_features=sqrt, min_samples_leaf=1, min_samples_split=5, n_estimators=30; total time=   0.1s\n",
      "[CV] END max_depth=2, max_features=sqrt, min_samples_leaf=1, min_samples_split=5, n_estimators=30; total time=   0.1s\n",
      "[CV] END max_depth=2, max_features=sqrt, min_samples_leaf=1, min_samples_split=5, n_estimators=30; total time=   0.1s\n",
      "[CV] END max_depth=2, max_features=sqrt, min_samples_leaf=1, min_samples_split=5, n_estimators=40; total time=   0.1s\n",
      "[CV] END max_depth=2, max_features=sqrt, min_samples_leaf=1, min_samples_split=5, n_estimators=40; total time=   0.1s\n",
      "[CV] END max_depth=2, max_features=sqrt, min_samples_leaf=1, min_samples_split=5, n_estimators=40; total time=   0.1s\n",
      "[CV] END max_depth=2, max_features=sqrt, min_samples_leaf=1, min_samples_split=5, n_estimators=50; total time=   0.1s\n",
      "[CV] END max_depth=2, max_features=sqrt, min_samples_leaf=1, min_samples_split=5, n_estimators=50; total time=   0.1s\n",
      "[CV] END max_depth=2, max_features=sqrt, min_samples_leaf=1, min_samples_split=5, n_estimators=50; total time=   0.1s\n",
      "[CV] END max_depth=2, max_features=sqrt, min_samples_leaf=1, min_samples_split=5, n_estimators=60; total time=   0.1s\n",
      "[CV] END max_depth=2, max_features=sqrt, min_samples_leaf=1, min_samples_split=5, n_estimators=60; total time=   0.1s\n",
      "[CV] END max_depth=2, max_features=sqrt, min_samples_leaf=1, min_samples_split=5, n_estimators=60; total time=   0.1s\n",
      "[CV] END max_depth=2, max_features=sqrt, min_samples_leaf=1, min_samples_split=5, n_estimators=70; total time=   0.1s\n",
      "[CV] END max_depth=2, max_features=sqrt, min_samples_leaf=1, min_samples_split=5, n_estimators=70; total time=   0.1s\n",
      "[CV] END max_depth=2, max_features=sqrt, min_samples_leaf=1, min_samples_split=5, n_estimators=70; total time=   0.1s\n",
      "[CV] END max_depth=2, max_features=sqrt, min_samples_leaf=1, min_samples_split=5, n_estimators=80; total time=   0.2s\n",
      "[CV] END max_depth=2, max_features=sqrt, min_samples_leaf=1, min_samples_split=5, n_estimators=80; total time=   0.2s\n",
      "[CV] END max_depth=2, max_features=sqrt, min_samples_leaf=1, min_samples_split=5, n_estimators=80; total time=   0.2s\n",
      "[CV] END max_depth=2, max_features=sqrt, min_samples_leaf=1, min_samples_split=5, n_estimators=90; total time=   0.2s\n",
      "[CV] END max_depth=2, max_features=sqrt, min_samples_leaf=1, min_samples_split=5, n_estimators=90; total time=   0.2s\n",
      "[CV] END max_depth=2, max_features=sqrt, min_samples_leaf=1, min_samples_split=5, n_estimators=90; total time=   0.2s\n",
      "[CV] END max_depth=2, max_features=sqrt, min_samples_leaf=1, min_samples_split=5, n_estimators=100; total time=   0.2s\n",
      "[CV] END max_depth=2, max_features=sqrt, min_samples_leaf=1, min_samples_split=5, n_estimators=100; total time=   0.2s\n",
      "[CV] END max_depth=2, max_features=sqrt, min_samples_leaf=1, min_samples_split=5, n_estimators=100; total time=   0.2s\n",
      "[CV] END max_depth=2, max_features=sqrt, min_samples_leaf=2, min_samples_split=2, n_estimators=10; total time=   0.0s\n",
      "[CV] END max_depth=2, max_features=sqrt, min_samples_leaf=2, min_samples_split=2, n_estimators=10; total time=   0.0s\n",
      "[CV] END max_depth=2, max_features=sqrt, min_samples_leaf=2, min_samples_split=2, n_estimators=10; total time=   0.0s\n",
      "[CV] END max_depth=2, max_features=sqrt, min_samples_leaf=2, min_samples_split=2, n_estimators=20; total time=   0.0s\n",
      "[CV] END max_depth=2, max_features=sqrt, min_samples_leaf=2, min_samples_split=2, n_estimators=20; total time=   0.0s\n",
      "[CV] END max_depth=2, max_features=sqrt, min_samples_leaf=2, min_samples_split=2, n_estimators=20; total time=   0.0s\n",
      "[CV] END max_depth=2, max_features=sqrt, min_samples_leaf=2, min_samples_split=2, n_estimators=30; total time=   0.1s\n",
      "[CV] END max_depth=2, max_features=sqrt, min_samples_leaf=2, min_samples_split=2, n_estimators=30; total time=   0.1s\n",
      "[CV] END max_depth=2, max_features=sqrt, min_samples_leaf=2, min_samples_split=2, n_estimators=30; total time=   0.1s\n",
      "[CV] END max_depth=2, max_features=sqrt, min_samples_leaf=2, min_samples_split=2, n_estimators=40; total time=   0.1s\n",
      "[CV] END max_depth=2, max_features=sqrt, min_samples_leaf=2, min_samples_split=2, n_estimators=40; total time=   0.1s\n",
      "[CV] END max_depth=2, max_features=sqrt, min_samples_leaf=2, min_samples_split=2, n_estimators=40; total time=   0.1s\n",
      "[CV] END max_depth=2, max_features=sqrt, min_samples_leaf=2, min_samples_split=2, n_estimators=50; total time=   0.1s\n",
      "[CV] END max_depth=2, max_features=sqrt, min_samples_leaf=2, min_samples_split=2, n_estimators=50; total time=   0.1s\n",
      "[CV] END max_depth=2, max_features=sqrt, min_samples_leaf=2, min_samples_split=2, n_estimators=50; total time=   0.1s\n",
      "[CV] END max_depth=2, max_features=sqrt, min_samples_leaf=2, min_samples_split=2, n_estimators=60; total time=   0.1s\n",
      "[CV] END max_depth=2, max_features=sqrt, min_samples_leaf=2, min_samples_split=2, n_estimators=60; total time=   0.1s\n",
      "[CV] END max_depth=2, max_features=sqrt, min_samples_leaf=2, min_samples_split=2, n_estimators=60; total time=   0.1s\n",
      "[CV] END max_depth=2, max_features=sqrt, min_samples_leaf=2, min_samples_split=2, n_estimators=70; total time=   0.1s\n",
      "[CV] END max_depth=2, max_features=sqrt, min_samples_leaf=2, min_samples_split=2, n_estimators=70; total time=   0.1s\n",
      "[CV] END max_depth=2, max_features=sqrt, min_samples_leaf=2, min_samples_split=2, n_estimators=70; total time=   0.1s\n",
      "[CV] END max_depth=2, max_features=sqrt, min_samples_leaf=2, min_samples_split=2, n_estimators=80; total time=   0.2s\n",
      "[CV] END max_depth=2, max_features=sqrt, min_samples_leaf=2, min_samples_split=2, n_estimators=80; total time=   0.2s\n",
      "[CV] END max_depth=2, max_features=sqrt, min_samples_leaf=2, min_samples_split=2, n_estimators=80; total time=   0.2s\n",
      "[CV] END max_depth=2, max_features=sqrt, min_samples_leaf=2, min_samples_split=2, n_estimators=90; total time=   0.2s\n",
      "[CV] END max_depth=2, max_features=sqrt, min_samples_leaf=2, min_samples_split=2, n_estimators=90; total time=   0.2s\n",
      "[CV] END max_depth=2, max_features=sqrt, min_samples_leaf=2, min_samples_split=2, n_estimators=90; total time=   0.2s\n",
      "[CV] END max_depth=2, max_features=sqrt, min_samples_leaf=2, min_samples_split=2, n_estimators=100; total time=   0.2s\n",
      "[CV] END max_depth=2, max_features=sqrt, min_samples_leaf=2, min_samples_split=2, n_estimators=100; total time=   0.2s\n"
     ]
    },
    {
     "name": "stdout",
     "output_type": "stream",
     "text": [
      "[CV] END max_depth=2, max_features=sqrt, min_samples_leaf=2, min_samples_split=2, n_estimators=100; total time=   0.2s\n",
      "[CV] END max_depth=2, max_features=sqrt, min_samples_leaf=2, min_samples_split=5, n_estimators=10; total time=   0.0s\n",
      "[CV] END max_depth=2, max_features=sqrt, min_samples_leaf=2, min_samples_split=5, n_estimators=10; total time=   0.0s\n",
      "[CV] END max_depth=2, max_features=sqrt, min_samples_leaf=2, min_samples_split=5, n_estimators=10; total time=   0.0s\n",
      "[CV] END max_depth=2, max_features=sqrt, min_samples_leaf=2, min_samples_split=5, n_estimators=20; total time=   0.0s\n",
      "[CV] END max_depth=2, max_features=sqrt, min_samples_leaf=2, min_samples_split=5, n_estimators=20; total time=   0.0s\n",
      "[CV] END max_depth=2, max_features=sqrt, min_samples_leaf=2, min_samples_split=5, n_estimators=20; total time=   0.0s\n",
      "[CV] END max_depth=2, max_features=sqrt, min_samples_leaf=2, min_samples_split=5, n_estimators=30; total time=   0.1s\n",
      "[CV] END max_depth=2, max_features=sqrt, min_samples_leaf=2, min_samples_split=5, n_estimators=30; total time=   0.1s\n",
      "[CV] END max_depth=2, max_features=sqrt, min_samples_leaf=2, min_samples_split=5, n_estimators=30; total time=   0.1s\n",
      "[CV] END max_depth=2, max_features=sqrt, min_samples_leaf=2, min_samples_split=5, n_estimators=40; total time=   0.1s\n",
      "[CV] END max_depth=2, max_features=sqrt, min_samples_leaf=2, min_samples_split=5, n_estimators=40; total time=   0.1s\n",
      "[CV] END max_depth=2, max_features=sqrt, min_samples_leaf=2, min_samples_split=5, n_estimators=40; total time=   0.1s\n",
      "[CV] END max_depth=2, max_features=sqrt, min_samples_leaf=2, min_samples_split=5, n_estimators=50; total time=   0.1s\n",
      "[CV] END max_depth=2, max_features=sqrt, min_samples_leaf=2, min_samples_split=5, n_estimators=50; total time=   0.1s\n",
      "[CV] END max_depth=2, max_features=sqrt, min_samples_leaf=2, min_samples_split=5, n_estimators=50; total time=   0.1s\n",
      "[CV] END max_depth=2, max_features=sqrt, min_samples_leaf=2, min_samples_split=5, n_estimators=60; total time=   0.1s\n",
      "[CV] END max_depth=2, max_features=sqrt, min_samples_leaf=2, min_samples_split=5, n_estimators=60; total time=   0.1s\n",
      "[CV] END max_depth=2, max_features=sqrt, min_samples_leaf=2, min_samples_split=5, n_estimators=60; total time=   0.1s\n",
      "[CV] END max_depth=2, max_features=sqrt, min_samples_leaf=2, min_samples_split=5, n_estimators=70; total time=   0.1s\n",
      "[CV] END max_depth=2, max_features=sqrt, min_samples_leaf=2, min_samples_split=5, n_estimators=70; total time=   0.1s\n",
      "[CV] END max_depth=2, max_features=sqrt, min_samples_leaf=2, min_samples_split=5, n_estimators=70; total time=   0.1s\n",
      "[CV] END max_depth=2, max_features=sqrt, min_samples_leaf=2, min_samples_split=5, n_estimators=80; total time=   0.2s\n",
      "[CV] END max_depth=2, max_features=sqrt, min_samples_leaf=2, min_samples_split=5, n_estimators=80; total time=   0.2s\n",
      "[CV] END max_depth=2, max_features=sqrt, min_samples_leaf=2, min_samples_split=5, n_estimators=80; total time=   0.2s\n",
      "[CV] END max_depth=2, max_features=sqrt, min_samples_leaf=2, min_samples_split=5, n_estimators=90; total time=   0.2s\n",
      "[CV] END max_depth=2, max_features=sqrt, min_samples_leaf=2, min_samples_split=5, n_estimators=90; total time=   0.2s\n",
      "[CV] END max_depth=2, max_features=sqrt, min_samples_leaf=2, min_samples_split=5, n_estimators=90; total time=   0.2s\n",
      "[CV] END max_depth=2, max_features=sqrt, min_samples_leaf=2, min_samples_split=5, n_estimators=100; total time=   0.2s\n",
      "[CV] END max_depth=2, max_features=sqrt, min_samples_leaf=2, min_samples_split=5, n_estimators=100; total time=   0.2s\n",
      "[CV] END max_depth=2, max_features=sqrt, min_samples_leaf=2, min_samples_split=5, n_estimators=100; total time=   0.2s\n",
      "[CV] END max_depth=4, max_features=auto, min_samples_leaf=1, min_samples_split=2, n_estimators=10; total time=   0.0s\n",
      "[CV] END max_depth=4, max_features=auto, min_samples_leaf=1, min_samples_split=2, n_estimators=10; total time=   0.0s\n",
      "[CV] END max_depth=4, max_features=auto, min_samples_leaf=1, min_samples_split=2, n_estimators=10; total time=   0.0s\n",
      "[CV] END max_depth=4, max_features=auto, min_samples_leaf=1, min_samples_split=2, n_estimators=20; total time=   0.1s\n",
      "[CV] END max_depth=4, max_features=auto, min_samples_leaf=1, min_samples_split=2, n_estimators=20; total time=   0.1s\n",
      "[CV] END max_depth=4, max_features=auto, min_samples_leaf=1, min_samples_split=2, n_estimators=20; total time=   0.1s\n",
      "[CV] END max_depth=4, max_features=auto, min_samples_leaf=1, min_samples_split=2, n_estimators=30; total time=   0.1s\n",
      "[CV] END max_depth=4, max_features=auto, min_samples_leaf=1, min_samples_split=2, n_estimators=30; total time=   0.1s\n",
      "[CV] END max_depth=4, max_features=auto, min_samples_leaf=1, min_samples_split=2, n_estimators=30; total time=   0.1s\n",
      "[CV] END max_depth=4, max_features=auto, min_samples_leaf=1, min_samples_split=2, n_estimators=40; total time=   0.1s\n",
      "[CV] END max_depth=4, max_features=auto, min_samples_leaf=1, min_samples_split=2, n_estimators=40; total time=   0.1s\n",
      "[CV] END max_depth=4, max_features=auto, min_samples_leaf=1, min_samples_split=2, n_estimators=40; total time=   0.1s\n",
      "[CV] END max_depth=4, max_features=auto, min_samples_leaf=1, min_samples_split=2, n_estimators=50; total time=   0.1s\n",
      "[CV] END max_depth=4, max_features=auto, min_samples_leaf=1, min_samples_split=2, n_estimators=50; total time=   0.1s\n",
      "[CV] END max_depth=4, max_features=auto, min_samples_leaf=1, min_samples_split=2, n_estimators=50; total time=   0.1s\n",
      "[CV] END max_depth=4, max_features=auto, min_samples_leaf=1, min_samples_split=2, n_estimators=60; total time=   0.2s\n",
      "[CV] END max_depth=4, max_features=auto, min_samples_leaf=1, min_samples_split=2, n_estimators=60; total time=   0.1s\n",
      "[CV] END max_depth=4, max_features=auto, min_samples_leaf=1, min_samples_split=2, n_estimators=60; total time=   0.1s\n",
      "[CV] END max_depth=4, max_features=auto, min_samples_leaf=1, min_samples_split=2, n_estimators=70; total time=   0.2s\n",
      "[CV] END max_depth=4, max_features=auto, min_samples_leaf=1, min_samples_split=2, n_estimators=70; total time=   0.2s\n",
      "[CV] END max_depth=4, max_features=auto, min_samples_leaf=1, min_samples_split=2, n_estimators=70; total time=   0.2s\n",
      "[CV] END max_depth=4, max_features=auto, min_samples_leaf=1, min_samples_split=2, n_estimators=80; total time=   0.2s\n",
      "[CV] END max_depth=4, max_features=auto, min_samples_leaf=1, min_samples_split=2, n_estimators=80; total time=   0.2s\n",
      "[CV] END max_depth=4, max_features=auto, min_samples_leaf=1, min_samples_split=2, n_estimators=80; total time=   0.2s\n",
      "[CV] END max_depth=4, max_features=auto, min_samples_leaf=1, min_samples_split=2, n_estimators=90; total time=   0.2s\n",
      "[CV] END max_depth=4, max_features=auto, min_samples_leaf=1, min_samples_split=2, n_estimators=90; total time=   0.2s\n",
      "[CV] END max_depth=4, max_features=auto, min_samples_leaf=1, min_samples_split=2, n_estimators=90; total time=   0.2s\n",
      "[CV] END max_depth=4, max_features=auto, min_samples_leaf=1, min_samples_split=2, n_estimators=100; total time=   0.3s\n",
      "[CV] END max_depth=4, max_features=auto, min_samples_leaf=1, min_samples_split=2, n_estimators=100; total time=   0.3s\n",
      "[CV] END max_depth=4, max_features=auto, min_samples_leaf=1, min_samples_split=2, n_estimators=100; total time=   0.2s\n",
      "[CV] END max_depth=4, max_features=auto, min_samples_leaf=1, min_samples_split=5, n_estimators=10; total time=   0.0s\n",
      "[CV] END max_depth=4, max_features=auto, min_samples_leaf=1, min_samples_split=5, n_estimators=10; total time=   0.0s\n",
      "[CV] END max_depth=4, max_features=auto, min_samples_leaf=1, min_samples_split=5, n_estimators=10; total time=   0.0s\n",
      "[CV] END max_depth=4, max_features=auto, min_samples_leaf=1, min_samples_split=5, n_estimators=20; total time=   0.1s\n",
      "[CV] END max_depth=4, max_features=auto, min_samples_leaf=1, min_samples_split=5, n_estimators=20; total time=   0.1s\n",
      "[CV] END max_depth=4, max_features=auto, min_samples_leaf=1, min_samples_split=5, n_estimators=20; total time=   0.1s\n",
      "[CV] END max_depth=4, max_features=auto, min_samples_leaf=1, min_samples_split=5, n_estimators=30; total time=   0.1s\n",
      "[CV] END max_depth=4, max_features=auto, min_samples_leaf=1, min_samples_split=5, n_estimators=30; total time=   0.1s\n",
      "[CV] END max_depth=4, max_features=auto, min_samples_leaf=1, min_samples_split=5, n_estimators=30; total time=   0.1s\n",
      "[CV] END max_depth=4, max_features=auto, min_samples_leaf=1, min_samples_split=5, n_estimators=40; total time=   0.1s\n"
     ]
    },
    {
     "name": "stdout",
     "output_type": "stream",
     "text": [
      "[CV] END max_depth=4, max_features=auto, min_samples_leaf=1, min_samples_split=5, n_estimators=40; total time=   0.1s\n",
      "[CV] END max_depth=4, max_features=auto, min_samples_leaf=1, min_samples_split=5, n_estimators=40; total time=   0.1s\n",
      "[CV] END max_depth=4, max_features=auto, min_samples_leaf=1, min_samples_split=5, n_estimators=50; total time=   0.1s\n",
      "[CV] END max_depth=4, max_features=auto, min_samples_leaf=1, min_samples_split=5, n_estimators=50; total time=   0.1s\n",
      "[CV] END max_depth=4, max_features=auto, min_samples_leaf=1, min_samples_split=5, n_estimators=50; total time=   0.1s\n",
      "[CV] END max_depth=4, max_features=auto, min_samples_leaf=1, min_samples_split=5, n_estimators=60; total time=   0.1s\n",
      "[CV] END max_depth=4, max_features=auto, min_samples_leaf=1, min_samples_split=5, n_estimators=60; total time=   0.2s\n",
      "[CV] END max_depth=4, max_features=auto, min_samples_leaf=1, min_samples_split=5, n_estimators=60; total time=   0.1s\n",
      "[CV] END max_depth=4, max_features=auto, min_samples_leaf=1, min_samples_split=5, n_estimators=70; total time=   0.2s\n",
      "[CV] END max_depth=4, max_features=auto, min_samples_leaf=1, min_samples_split=5, n_estimators=70; total time=   0.2s\n",
      "[CV] END max_depth=4, max_features=auto, min_samples_leaf=1, min_samples_split=5, n_estimators=70; total time=   0.2s\n",
      "[CV] END max_depth=4, max_features=auto, min_samples_leaf=1, min_samples_split=5, n_estimators=80; total time=   0.2s\n",
      "[CV] END max_depth=4, max_features=auto, min_samples_leaf=1, min_samples_split=5, n_estimators=80; total time=   0.2s\n",
      "[CV] END max_depth=4, max_features=auto, min_samples_leaf=1, min_samples_split=5, n_estimators=80; total time=   0.2s\n",
      "[CV] END max_depth=4, max_features=auto, min_samples_leaf=1, min_samples_split=5, n_estimators=90; total time=   0.2s\n",
      "[CV] END max_depth=4, max_features=auto, min_samples_leaf=1, min_samples_split=5, n_estimators=90; total time=   0.2s\n",
      "[CV] END max_depth=4, max_features=auto, min_samples_leaf=1, min_samples_split=5, n_estimators=90; total time=   0.2s\n",
      "[CV] END max_depth=4, max_features=auto, min_samples_leaf=1, min_samples_split=5, n_estimators=100; total time=   0.2s\n",
      "[CV] END max_depth=4, max_features=auto, min_samples_leaf=1, min_samples_split=5, n_estimators=100; total time=   0.2s\n",
      "[CV] END max_depth=4, max_features=auto, min_samples_leaf=1, min_samples_split=5, n_estimators=100; total time=   0.3s\n",
      "[CV] END max_depth=4, max_features=auto, min_samples_leaf=2, min_samples_split=2, n_estimators=10; total time=   0.0s\n",
      "[CV] END max_depth=4, max_features=auto, min_samples_leaf=2, min_samples_split=2, n_estimators=10; total time=   0.0s\n",
      "[CV] END max_depth=4, max_features=auto, min_samples_leaf=2, min_samples_split=2, n_estimators=10; total time=   0.0s\n",
      "[CV] END max_depth=4, max_features=auto, min_samples_leaf=2, min_samples_split=2, n_estimators=20; total time=   0.1s\n",
      "[CV] END max_depth=4, max_features=auto, min_samples_leaf=2, min_samples_split=2, n_estimators=20; total time=   0.1s\n",
      "[CV] END max_depth=4, max_features=auto, min_samples_leaf=2, min_samples_split=2, n_estimators=20; total time=   0.1s\n",
      "[CV] END max_depth=4, max_features=auto, min_samples_leaf=2, min_samples_split=2, n_estimators=30; total time=   0.1s\n",
      "[CV] END max_depth=4, max_features=auto, min_samples_leaf=2, min_samples_split=2, n_estimators=30; total time=   0.1s\n",
      "[CV] END max_depth=4, max_features=auto, min_samples_leaf=2, min_samples_split=2, n_estimators=30; total time=   0.1s\n",
      "[CV] END max_depth=4, max_features=auto, min_samples_leaf=2, min_samples_split=2, n_estimators=40; total time=   0.1s\n",
      "[CV] END max_depth=4, max_features=auto, min_samples_leaf=2, min_samples_split=2, n_estimators=40; total time=   0.1s\n",
      "[CV] END max_depth=4, max_features=auto, min_samples_leaf=2, min_samples_split=2, n_estimators=40; total time=   0.1s\n",
      "[CV] END max_depth=4, max_features=auto, min_samples_leaf=2, min_samples_split=2, n_estimators=50; total time=   0.1s\n",
      "[CV] END max_depth=4, max_features=auto, min_samples_leaf=2, min_samples_split=2, n_estimators=50; total time=   0.1s\n",
      "[CV] END max_depth=4, max_features=auto, min_samples_leaf=2, min_samples_split=2, n_estimators=50; total time=   0.1s\n",
      "[CV] END max_depth=4, max_features=auto, min_samples_leaf=2, min_samples_split=2, n_estimators=60; total time=   0.1s\n",
      "[CV] END max_depth=4, max_features=auto, min_samples_leaf=2, min_samples_split=2, n_estimators=60; total time=   0.2s\n",
      "[CV] END max_depth=4, max_features=auto, min_samples_leaf=2, min_samples_split=2, n_estimators=60; total time=   0.1s\n",
      "[CV] END max_depth=4, max_features=auto, min_samples_leaf=2, min_samples_split=2, n_estimators=70; total time=   0.2s\n",
      "[CV] END max_depth=4, max_features=auto, min_samples_leaf=2, min_samples_split=2, n_estimators=70; total time=   0.2s\n",
      "[CV] END max_depth=4, max_features=auto, min_samples_leaf=2, min_samples_split=2, n_estimators=70; total time=   0.2s\n",
      "[CV] END max_depth=4, max_features=auto, min_samples_leaf=2, min_samples_split=2, n_estimators=80; total time=   0.2s\n",
      "[CV] END max_depth=4, max_features=auto, min_samples_leaf=2, min_samples_split=2, n_estimators=80; total time=   0.2s\n",
      "[CV] END max_depth=4, max_features=auto, min_samples_leaf=2, min_samples_split=2, n_estimators=80; total time=   0.2s\n",
      "[CV] END max_depth=4, max_features=auto, min_samples_leaf=2, min_samples_split=2, n_estimators=90; total time=   0.2s\n",
      "[CV] END max_depth=4, max_features=auto, min_samples_leaf=2, min_samples_split=2, n_estimators=90; total time=   0.2s\n",
      "[CV] END max_depth=4, max_features=auto, min_samples_leaf=2, min_samples_split=2, n_estimators=90; total time=   0.2s\n",
      "[CV] END max_depth=4, max_features=auto, min_samples_leaf=2, min_samples_split=2, n_estimators=100; total time=   0.2s\n",
      "[CV] END max_depth=4, max_features=auto, min_samples_leaf=2, min_samples_split=2, n_estimators=100; total time=   0.2s\n",
      "[CV] END max_depth=4, max_features=auto, min_samples_leaf=2, min_samples_split=2, n_estimators=100; total time=   0.2s\n",
      "[CV] END max_depth=4, max_features=auto, min_samples_leaf=2, min_samples_split=5, n_estimators=10; total time=   0.0s\n",
      "[CV] END max_depth=4, max_features=auto, min_samples_leaf=2, min_samples_split=5, n_estimators=10; total time=   0.0s\n",
      "[CV] END max_depth=4, max_features=auto, min_samples_leaf=2, min_samples_split=5, n_estimators=10; total time=   0.0s\n",
      "[CV] END max_depth=4, max_features=auto, min_samples_leaf=2, min_samples_split=5, n_estimators=20; total time=   0.1s\n",
      "[CV] END max_depth=4, max_features=auto, min_samples_leaf=2, min_samples_split=5, n_estimators=20; total time=   0.1s\n",
      "[CV] END max_depth=4, max_features=auto, min_samples_leaf=2, min_samples_split=5, n_estimators=20; total time=   0.1s\n",
      "[CV] END max_depth=4, max_features=auto, min_samples_leaf=2, min_samples_split=5, n_estimators=30; total time=   0.1s\n",
      "[CV] END max_depth=4, max_features=auto, min_samples_leaf=2, min_samples_split=5, n_estimators=30; total time=   0.1s\n",
      "[CV] END max_depth=4, max_features=auto, min_samples_leaf=2, min_samples_split=5, n_estimators=30; total time=   0.1s\n",
      "[CV] END max_depth=4, max_features=auto, min_samples_leaf=2, min_samples_split=5, n_estimators=40; total time=   0.1s\n",
      "[CV] END max_depth=4, max_features=auto, min_samples_leaf=2, min_samples_split=5, n_estimators=40; total time=   0.1s\n",
      "[CV] END max_depth=4, max_features=auto, min_samples_leaf=2, min_samples_split=5, n_estimators=40; total time=   0.1s\n",
      "[CV] END max_depth=4, max_features=auto, min_samples_leaf=2, min_samples_split=5, n_estimators=50; total time=   0.1s\n",
      "[CV] END max_depth=4, max_features=auto, min_samples_leaf=2, min_samples_split=5, n_estimators=50; total time=   0.1s\n",
      "[CV] END max_depth=4, max_features=auto, min_samples_leaf=2, min_samples_split=5, n_estimators=50; total time=   0.1s\n",
      "[CV] END max_depth=4, max_features=auto, min_samples_leaf=2, min_samples_split=5, n_estimators=60; total time=   0.1s\n",
      "[CV] END max_depth=4, max_features=auto, min_samples_leaf=2, min_samples_split=5, n_estimators=60; total time=   0.2s\n",
      "[CV] END max_depth=4, max_features=auto, min_samples_leaf=2, min_samples_split=5, n_estimators=60; total time=   0.2s\n",
      "[CV] END max_depth=4, max_features=auto, min_samples_leaf=2, min_samples_split=5, n_estimators=70; total time=   0.2s\n",
      "[CV] END max_depth=4, max_features=auto, min_samples_leaf=2, min_samples_split=5, n_estimators=70; total time=   0.2s\n"
     ]
    },
    {
     "name": "stdout",
     "output_type": "stream",
     "text": [
      "[CV] END max_depth=4, max_features=auto, min_samples_leaf=2, min_samples_split=5, n_estimators=70; total time=   0.2s\n",
      "[CV] END max_depth=4, max_features=auto, min_samples_leaf=2, min_samples_split=5, n_estimators=80; total time=   0.2s\n",
      "[CV] END max_depth=4, max_features=auto, min_samples_leaf=2, min_samples_split=5, n_estimators=80; total time=   0.2s\n",
      "[CV] END max_depth=4, max_features=auto, min_samples_leaf=2, min_samples_split=5, n_estimators=80; total time=   0.2s\n",
      "[CV] END max_depth=4, max_features=auto, min_samples_leaf=2, min_samples_split=5, n_estimators=90; total time=   0.2s\n",
      "[CV] END max_depth=4, max_features=auto, min_samples_leaf=2, min_samples_split=5, n_estimators=90; total time=   0.2s\n",
      "[CV] END max_depth=4, max_features=auto, min_samples_leaf=2, min_samples_split=5, n_estimators=90; total time=   0.2s\n",
      "[CV] END max_depth=4, max_features=auto, min_samples_leaf=2, min_samples_split=5, n_estimators=100; total time=   0.3s\n",
      "[CV] END max_depth=4, max_features=auto, min_samples_leaf=2, min_samples_split=5, n_estimators=100; total time=   0.3s\n",
      "[CV] END max_depth=4, max_features=auto, min_samples_leaf=2, min_samples_split=5, n_estimators=100; total time=   0.3s\n",
      "[CV] END max_depth=4, max_features=sqrt, min_samples_leaf=1, min_samples_split=2, n_estimators=10; total time=   0.0s\n",
      "[CV] END max_depth=4, max_features=sqrt, min_samples_leaf=1, min_samples_split=2, n_estimators=10; total time=   0.0s\n",
      "[CV] END max_depth=4, max_features=sqrt, min_samples_leaf=1, min_samples_split=2, n_estimators=10; total time=   0.0s\n",
      "[CV] END max_depth=4, max_features=sqrt, min_samples_leaf=1, min_samples_split=2, n_estimators=20; total time=   0.1s\n",
      "[CV] END max_depth=4, max_features=sqrt, min_samples_leaf=1, min_samples_split=2, n_estimators=20; total time=   0.1s\n",
      "[CV] END max_depth=4, max_features=sqrt, min_samples_leaf=1, min_samples_split=2, n_estimators=20; total time=   0.1s\n",
      "[CV] END max_depth=4, max_features=sqrt, min_samples_leaf=1, min_samples_split=2, n_estimators=30; total time=   0.1s\n",
      "[CV] END max_depth=4, max_features=sqrt, min_samples_leaf=1, min_samples_split=2, n_estimators=30; total time=   0.1s\n",
      "[CV] END max_depth=4, max_features=sqrt, min_samples_leaf=1, min_samples_split=2, n_estimators=30; total time=   0.1s\n",
      "[CV] END max_depth=4, max_features=sqrt, min_samples_leaf=1, min_samples_split=2, n_estimators=40; total time=   0.1s\n",
      "[CV] END max_depth=4, max_features=sqrt, min_samples_leaf=1, min_samples_split=2, n_estimators=40; total time=   0.1s\n",
      "[CV] END max_depth=4, max_features=sqrt, min_samples_leaf=1, min_samples_split=2, n_estimators=40; total time=   0.1s\n",
      "[CV] END max_depth=4, max_features=sqrt, min_samples_leaf=1, min_samples_split=2, n_estimators=50; total time=   0.1s\n",
      "[CV] END max_depth=4, max_features=sqrt, min_samples_leaf=1, min_samples_split=2, n_estimators=50; total time=   0.1s\n",
      "[CV] END max_depth=4, max_features=sqrt, min_samples_leaf=1, min_samples_split=2, n_estimators=50; total time=   0.1s\n",
      "[CV] END max_depth=4, max_features=sqrt, min_samples_leaf=1, min_samples_split=2, n_estimators=60; total time=   0.1s\n",
      "[CV] END max_depth=4, max_features=sqrt, min_samples_leaf=1, min_samples_split=2, n_estimators=60; total time=   0.1s\n",
      "[CV] END max_depth=4, max_features=sqrt, min_samples_leaf=1, min_samples_split=2, n_estimators=60; total time=   0.2s\n",
      "[CV] END max_depth=4, max_features=sqrt, min_samples_leaf=1, min_samples_split=2, n_estimators=70; total time=   0.2s\n",
      "[CV] END max_depth=4, max_features=sqrt, min_samples_leaf=1, min_samples_split=2, n_estimators=70; total time=   0.2s\n",
      "[CV] END max_depth=4, max_features=sqrt, min_samples_leaf=1, min_samples_split=2, n_estimators=70; total time=   0.2s\n",
      "[CV] END max_depth=4, max_features=sqrt, min_samples_leaf=1, min_samples_split=2, n_estimators=80; total time=   0.2s\n",
      "[CV] END max_depth=4, max_features=sqrt, min_samples_leaf=1, min_samples_split=2, n_estimators=80; total time=   0.2s\n",
      "[CV] END max_depth=4, max_features=sqrt, min_samples_leaf=1, min_samples_split=2, n_estimators=80; total time=   0.2s\n",
      "[CV] END max_depth=4, max_features=sqrt, min_samples_leaf=1, min_samples_split=2, n_estimators=90; total time=   0.2s\n",
      "[CV] END max_depth=4, max_features=sqrt, min_samples_leaf=1, min_samples_split=2, n_estimators=90; total time=   0.2s\n",
      "[CV] END max_depth=4, max_features=sqrt, min_samples_leaf=1, min_samples_split=2, n_estimators=90; total time=   0.2s\n",
      "[CV] END max_depth=4, max_features=sqrt, min_samples_leaf=1, min_samples_split=2, n_estimators=100; total time=   0.2s\n",
      "[CV] END max_depth=4, max_features=sqrt, min_samples_leaf=1, min_samples_split=2, n_estimators=100; total time=   0.3s\n",
      "[CV] END max_depth=4, max_features=sqrt, min_samples_leaf=1, min_samples_split=2, n_estimators=100; total time=   0.3s\n",
      "[CV] END max_depth=4, max_features=sqrt, min_samples_leaf=1, min_samples_split=5, n_estimators=10; total time=   0.0s\n",
      "[CV] END max_depth=4, max_features=sqrt, min_samples_leaf=1, min_samples_split=5, n_estimators=10; total time=   0.0s\n",
      "[CV] END max_depth=4, max_features=sqrt, min_samples_leaf=1, min_samples_split=5, n_estimators=10; total time=   0.0s\n",
      "[CV] END max_depth=4, max_features=sqrt, min_samples_leaf=1, min_samples_split=5, n_estimators=20; total time=   0.1s\n",
      "[CV] END max_depth=4, max_features=sqrt, min_samples_leaf=1, min_samples_split=5, n_estimators=20; total time=   0.1s\n",
      "[CV] END max_depth=4, max_features=sqrt, min_samples_leaf=1, min_samples_split=5, n_estimators=20; total time=   0.1s\n",
      "[CV] END max_depth=4, max_features=sqrt, min_samples_leaf=1, min_samples_split=5, n_estimators=30; total time=   0.1s\n",
      "[CV] END max_depth=4, max_features=sqrt, min_samples_leaf=1, min_samples_split=5, n_estimators=30; total time=   0.1s\n",
      "[CV] END max_depth=4, max_features=sqrt, min_samples_leaf=1, min_samples_split=5, n_estimators=30; total time=   0.1s\n",
      "[CV] END max_depth=4, max_features=sqrt, min_samples_leaf=1, min_samples_split=5, n_estimators=40; total time=   0.1s\n",
      "[CV] END max_depth=4, max_features=sqrt, min_samples_leaf=1, min_samples_split=5, n_estimators=40; total time=   0.1s\n",
      "[CV] END max_depth=4, max_features=sqrt, min_samples_leaf=1, min_samples_split=5, n_estimators=40; total time=   0.1s\n",
      "[CV] END max_depth=4, max_features=sqrt, min_samples_leaf=1, min_samples_split=5, n_estimators=50; total time=   0.1s\n",
      "[CV] END max_depth=4, max_features=sqrt, min_samples_leaf=1, min_samples_split=5, n_estimators=50; total time=   0.1s\n",
      "[CV] END max_depth=4, max_features=sqrt, min_samples_leaf=1, min_samples_split=5, n_estimators=50; total time=   0.1s\n",
      "[CV] END max_depth=4, max_features=sqrt, min_samples_leaf=1, min_samples_split=5, n_estimators=60; total time=   0.1s\n",
      "[CV] END max_depth=4, max_features=sqrt, min_samples_leaf=1, min_samples_split=5, n_estimators=60; total time=   0.1s\n",
      "[CV] END max_depth=4, max_features=sqrt, min_samples_leaf=1, min_samples_split=5, n_estimators=60; total time=   0.1s\n",
      "[CV] END max_depth=4, max_features=sqrt, min_samples_leaf=1, min_samples_split=5, n_estimators=70; total time=   0.2s\n",
      "[CV] END max_depth=4, max_features=sqrt, min_samples_leaf=1, min_samples_split=5, n_estimators=70; total time=   0.2s\n",
      "[CV] END max_depth=4, max_features=sqrt, min_samples_leaf=1, min_samples_split=5, n_estimators=70; total time=   0.2s\n",
      "[CV] END max_depth=4, max_features=sqrt, min_samples_leaf=1, min_samples_split=5, n_estimators=80; total time=   0.2s\n",
      "[CV] END max_depth=4, max_features=sqrt, min_samples_leaf=1, min_samples_split=5, n_estimators=80; total time=   0.2s\n",
      "[CV] END max_depth=4, max_features=sqrt, min_samples_leaf=1, min_samples_split=5, n_estimators=80; total time=   0.2s\n",
      "[CV] END max_depth=4, max_features=sqrt, min_samples_leaf=1, min_samples_split=5, n_estimators=90; total time=   0.2s\n",
      "[CV] END max_depth=4, max_features=sqrt, min_samples_leaf=1, min_samples_split=5, n_estimators=90; total time=   0.2s\n",
      "[CV] END max_depth=4, max_features=sqrt, min_samples_leaf=1, min_samples_split=5, n_estimators=90; total time=   0.2s\n",
      "[CV] END max_depth=4, max_features=sqrt, min_samples_leaf=1, min_samples_split=5, n_estimators=100; total time=   0.3s\n",
      "[CV] END max_depth=4, max_features=sqrt, min_samples_leaf=1, min_samples_split=5, n_estimators=100; total time=   0.3s\n",
      "[CV] END max_depth=4, max_features=sqrt, min_samples_leaf=1, min_samples_split=5, n_estimators=100; total time=   0.2s\n",
      "[CV] END max_depth=4, max_features=sqrt, min_samples_leaf=2, min_samples_split=2, n_estimators=10; total time=   0.0s\n",
      "[CV] END max_depth=4, max_features=sqrt, min_samples_leaf=2, min_samples_split=2, n_estimators=10; total time=   0.0s\n",
      "[CV] END max_depth=4, max_features=sqrt, min_samples_leaf=2, min_samples_split=2, n_estimators=10; total time=   0.0s\n",
      "[CV] END max_depth=4, max_features=sqrt, min_samples_leaf=2, min_samples_split=2, n_estimators=20; total time=   0.1s\n",
      "[CV] END max_depth=4, max_features=sqrt, min_samples_leaf=2, min_samples_split=2, n_estimators=20; total time=   0.1s\n"
     ]
    },
    {
     "name": "stdout",
     "output_type": "stream",
     "text": [
      "[CV] END max_depth=4, max_features=sqrt, min_samples_leaf=2, min_samples_split=2, n_estimators=20; total time=   0.1s\n",
      "[CV] END max_depth=4, max_features=sqrt, min_samples_leaf=2, min_samples_split=2, n_estimators=30; total time=   0.1s\n",
      "[CV] END max_depth=4, max_features=sqrt, min_samples_leaf=2, min_samples_split=2, n_estimators=30; total time=   0.1s\n",
      "[CV] END max_depth=4, max_features=sqrt, min_samples_leaf=2, min_samples_split=2, n_estimators=30; total time=   0.1s\n",
      "[CV] END max_depth=4, max_features=sqrt, min_samples_leaf=2, min_samples_split=2, n_estimators=40; total time=   0.1s\n",
      "[CV] END max_depth=4, max_features=sqrt, min_samples_leaf=2, min_samples_split=2, n_estimators=40; total time=   0.1s\n",
      "[CV] END max_depth=4, max_features=sqrt, min_samples_leaf=2, min_samples_split=2, n_estimators=40; total time=   0.1s\n",
      "[CV] END max_depth=4, max_features=sqrt, min_samples_leaf=2, min_samples_split=2, n_estimators=50; total time=   0.1s\n",
      "[CV] END max_depth=4, max_features=sqrt, min_samples_leaf=2, min_samples_split=2, n_estimators=50; total time=   0.1s\n",
      "[CV] END max_depth=4, max_features=sqrt, min_samples_leaf=2, min_samples_split=2, n_estimators=50; total time=   0.1s\n",
      "[CV] END max_depth=4, max_features=sqrt, min_samples_leaf=2, min_samples_split=2, n_estimators=60; total time=   0.1s\n",
      "[CV] END max_depth=4, max_features=sqrt, min_samples_leaf=2, min_samples_split=2, n_estimators=60; total time=   0.1s\n",
      "[CV] END max_depth=4, max_features=sqrt, min_samples_leaf=2, min_samples_split=2, n_estimators=60; total time=   0.1s\n",
      "[CV] END max_depth=4, max_features=sqrt, min_samples_leaf=2, min_samples_split=2, n_estimators=70; total time=   0.2s\n",
      "[CV] END max_depth=4, max_features=sqrt, min_samples_leaf=2, min_samples_split=2, n_estimators=70; total time=   0.2s\n",
      "[CV] END max_depth=4, max_features=sqrt, min_samples_leaf=2, min_samples_split=2, n_estimators=70; total time=   0.2s\n",
      "[CV] END max_depth=4, max_features=sqrt, min_samples_leaf=2, min_samples_split=2, n_estimators=80; total time=   0.2s\n",
      "[CV] END max_depth=4, max_features=sqrt, min_samples_leaf=2, min_samples_split=2, n_estimators=80; total time=   0.2s\n",
      "[CV] END max_depth=4, max_features=sqrt, min_samples_leaf=2, min_samples_split=2, n_estimators=80; total time=   0.2s\n",
      "[CV] END max_depth=4, max_features=sqrt, min_samples_leaf=2, min_samples_split=2, n_estimators=90; total time=   0.2s\n",
      "[CV] END max_depth=4, max_features=sqrt, min_samples_leaf=2, min_samples_split=2, n_estimators=90; total time=   0.2s\n",
      "[CV] END max_depth=4, max_features=sqrt, min_samples_leaf=2, min_samples_split=2, n_estimators=90; total time=   0.2s\n",
      "[CV] END max_depth=4, max_features=sqrt, min_samples_leaf=2, min_samples_split=2, n_estimators=100; total time=   0.2s\n",
      "[CV] END max_depth=4, max_features=sqrt, min_samples_leaf=2, min_samples_split=2, n_estimators=100; total time=   0.2s\n",
      "[CV] END max_depth=4, max_features=sqrt, min_samples_leaf=2, min_samples_split=2, n_estimators=100; total time=   0.2s\n",
      "[CV] END max_depth=4, max_features=sqrt, min_samples_leaf=2, min_samples_split=5, n_estimators=10; total time=   0.0s\n",
      "[CV] END max_depth=4, max_features=sqrt, min_samples_leaf=2, min_samples_split=5, n_estimators=10; total time=   0.0s\n",
      "[CV] END max_depth=4, max_features=sqrt, min_samples_leaf=2, min_samples_split=5, n_estimators=10; total time=   0.0s\n",
      "[CV] END max_depth=4, max_features=sqrt, min_samples_leaf=2, min_samples_split=5, n_estimators=20; total time=   0.1s\n",
      "[CV] END max_depth=4, max_features=sqrt, min_samples_leaf=2, min_samples_split=5, n_estimators=20; total time=   0.1s\n",
      "[CV] END max_depth=4, max_features=sqrt, min_samples_leaf=2, min_samples_split=5, n_estimators=20; total time=   0.1s\n",
      "[CV] END max_depth=4, max_features=sqrt, min_samples_leaf=2, min_samples_split=5, n_estimators=30; total time=   0.1s\n",
      "[CV] END max_depth=4, max_features=sqrt, min_samples_leaf=2, min_samples_split=5, n_estimators=30; total time=   0.1s\n",
      "[CV] END max_depth=4, max_features=sqrt, min_samples_leaf=2, min_samples_split=5, n_estimators=30; total time=   0.1s\n",
      "[CV] END max_depth=4, max_features=sqrt, min_samples_leaf=2, min_samples_split=5, n_estimators=40; total time=   0.1s\n",
      "[CV] END max_depth=4, max_features=sqrt, min_samples_leaf=2, min_samples_split=5, n_estimators=40; total time=   0.1s\n",
      "[CV] END max_depth=4, max_features=sqrt, min_samples_leaf=2, min_samples_split=5, n_estimators=40; total time=   0.1s\n",
      "[CV] END max_depth=4, max_features=sqrt, min_samples_leaf=2, min_samples_split=5, n_estimators=50; total time=   0.1s\n",
      "[CV] END max_depth=4, max_features=sqrt, min_samples_leaf=2, min_samples_split=5, n_estimators=50; total time=   0.1s\n",
      "[CV] END max_depth=4, max_features=sqrt, min_samples_leaf=2, min_samples_split=5, n_estimators=50; total time=   0.1s\n",
      "[CV] END max_depth=4, max_features=sqrt, min_samples_leaf=2, min_samples_split=5, n_estimators=60; total time=   0.1s\n",
      "[CV] END max_depth=4, max_features=sqrt, min_samples_leaf=2, min_samples_split=5, n_estimators=60; total time=   0.1s\n",
      "[CV] END max_depth=4, max_features=sqrt, min_samples_leaf=2, min_samples_split=5, n_estimators=60; total time=   0.1s\n",
      "[CV] END max_depth=4, max_features=sqrt, min_samples_leaf=2, min_samples_split=5, n_estimators=70; total time=   0.2s\n",
      "[CV] END max_depth=4, max_features=sqrt, min_samples_leaf=2, min_samples_split=5, n_estimators=70; total time=   0.2s\n",
      "[CV] END max_depth=4, max_features=sqrt, min_samples_leaf=2, min_samples_split=5, n_estimators=70; total time=   0.2s\n",
      "[CV] END max_depth=4, max_features=sqrt, min_samples_leaf=2, min_samples_split=5, n_estimators=80; total time=   0.2s\n",
      "[CV] END max_depth=4, max_features=sqrt, min_samples_leaf=2, min_samples_split=5, n_estimators=80; total time=   0.2s\n",
      "[CV] END max_depth=4, max_features=sqrt, min_samples_leaf=2, min_samples_split=5, n_estimators=80; total time=   0.2s\n",
      "[CV] END max_depth=4, max_features=sqrt, min_samples_leaf=2, min_samples_split=5, n_estimators=90; total time=   0.2s\n",
      "[CV] END max_depth=4, max_features=sqrt, min_samples_leaf=2, min_samples_split=5, n_estimators=90; total time=   0.2s\n",
      "[CV] END max_depth=4, max_features=sqrt, min_samples_leaf=2, min_samples_split=5, n_estimators=90; total time=   0.2s\n",
      "[CV] END max_depth=4, max_features=sqrt, min_samples_leaf=2, min_samples_split=5, n_estimators=100; total time=   0.3s\n",
      "[CV] END max_depth=4, max_features=sqrt, min_samples_leaf=2, min_samples_split=5, n_estimators=100; total time=   0.2s\n",
      "[CV] END max_depth=4, max_features=sqrt, min_samples_leaf=2, min_samples_split=5, n_estimators=100; total time=   0.3s\n"
     ]
    },
    {
     "data": {
      "text/plain": [
       "GridSearchCV(cv=3, estimator=RandomForestClassifier(),\n",
       "             param_grid={'max_depth': [2, 4], 'max_features': ['auto', 'sqrt'],\n",
       "                         'min_samples_leaf': [1, 2],\n",
       "                         'min_samples_split': [2, 5],\n",
       "                         'n_estimators': [10, 20, 30, 40, 50, 60, 70, 80, 90,\n",
       "                                          100]},\n",
       "             verbose=2)"
      ]
     },
     "execution_count": 72,
     "metadata": {},
     "output_type": "execute_result"
    }
   ],
   "source": [
    "grid = GridSearchCV(estimator = operation6, param_grid = param_grid, cv = 3, verbose=2)\n",
    "grid.fit(X_train, Y_train)"
   ]
  },
  {
   "cell_type": "code",
   "execution_count": 73,
   "id": "0d21109e",
   "metadata": {},
   "outputs": [
    {
     "data": {
      "text/plain": [
       "{'max_depth': 4,\n",
       " 'max_features': 'sqrt',\n",
       " 'min_samples_leaf': 1,\n",
       " 'min_samples_split': 5,\n",
       " 'n_estimators': 40}"
      ]
     },
     "execution_count": 73,
     "metadata": {},
     "output_type": "execute_result"
    }
   ],
   "source": [
    "# Getting the best parameters for the random forest algorithm\n",
    "grid.best_params_"
   ]
  },
  {
   "cell_type": "code",
   "execution_count": 74,
   "id": "0a875940",
   "metadata": {},
   "outputs": [],
   "source": [
    "# Creating the model with the best params\n",
    "final_operation = RandomForestClassifier(max_depth=4,max_features='auto',min_samples_leaf=2,min_samples_split=5,n_estimators=40)"
   ]
  },
  {
   "cell_type": "code",
   "execution_count": 75,
   "id": "f1a61897",
   "metadata": {},
   "outputs": [],
   "source": [
    "final_operation.fit(X_train,Y_train)\n",
    "Y_pred = final_operation.predict(X_test)"
   ]
  },
  {
   "cell_type": "code",
   "execution_count": 76,
   "id": "2952b13f",
   "metadata": {},
   "outputs": [
    {
     "name": "stdout",
     "output_type": "stream",
     "text": [
      "Final Prediction Accuracy = 81.19395651639849\n"
     ]
    }
   ],
   "source": [
    "final_score = accuracy_score(Y_test, Y_pred)\n",
    "print('Final Prediction Accuracy = ' + str(final_score*100))"
   ]
  },
  {
   "cell_type": "code",
   "execution_count": 77,
   "id": "87a53cbb",
   "metadata": {},
   "outputs": [
    {
     "data": {
      "image/png": "[encoded data removed]",
      "text/plain": [
       "<Figure size 576x288 with 2 Axes>"
      ]
     },
     "metadata": {
      "needs_background": "light"
     },
     "output_type": "display_data"
    }
   ],
   "source": [
    "class_names = [0,1]\n",
    "fig, ax = plt.subplots(figsize=(8,4))\n",
    "plot_confusion_matrix(final_operation, X_test, Y_test,cmap=plt.cm.Reds,labels=class_names,ax=ax,values_format = '.0f')\n",
    "plt.title('Confusion Matrix')\n",
    "plt.grid(False)\n",
    "plt.show()"
   ]
  },
  {
   "cell_type": "markdown",
   "id": "cca605d6",
   "metadata": {},
   "source": [
    "## Cross Validation"
   ]
  },
  {
   "cell_type": "code",
   "execution_count": 78,
   "id": "dd33779e",
   "metadata": {},
   "outputs": [],
   "source": [
    "def CrossValidationScore(operation_list):\n",
    "    global dfx,dfy\n",
    "    \n",
    "    mean = []\n",
    "    operation_name = []\n",
    "    \n",
    "    for operation in operation_list:\n",
    "        operation_name.append(type(operation).__name__)\n",
    "        \n",
    "    for i in operation_list:\n",
    "        scores = cross_val_score(i, dfx, dfy, cv=5)\n",
    "        mean.append(scores.mean())\n",
    "        \n",
    "    cvs = pd.DataFrame({\"Operation Name\":operation_name,\"CVS\":mean})\n",
    "    return cvs.style.background_gradient(\"Blues\")"
   ]
  },
  {
   "cell_type": "code",
   "execution_count": 79,
   "id": "9f92b53e",
   "metadata": {},
   "outputs": [],
   "source": [
    "operation_list = [operation1,operation2,operation3,operation4,operation5,final_operation]"
   ]
  },
  {
   "cell_type": "code",
   "execution_count": 80,
   "id": "3a61ef77",
   "metadata": {},
   "outputs": [
    {
     "data": {
      "text/html": [
       "<style type=\"text/css\">\n",
       "#T_74117_row0_col1 {\n",
       "  background-color: #3585bf;\n",
       "  color: #f1f1f1;\n",
       "}\n",
       "#T_74117_row1_col1 {\n",
       "  background-color: #083979;\n",
       "  color: #f1f1f1;\n",
       "}\n",
       "#T_74117_row2_col1 {\n",
       "  background-color: #f7fbff;\n",
       "  color: #000000;\n",
       "}\n",
       "#T_74117_row3_col1 {\n",
       "  background-color: #08306b;\n",
       "  color: #f1f1f1;\n",
       "}\n",
       "#T_74117_row4_col1 {\n",
       "  background-color: #084a91;\n",
       "  color: #f1f1f1;\n",
       "}\n",
       "#T_74117_row5_col1 {\n",
       "  background-color: #083e81;\n",
       "  color: #f1f1f1;\n",
       "}\n",
       "</style>\n",
       "<table id=\"T_74117_\">\n",
       "  <thead>\n",
       "    <tr>\n",
       "      <th class=\"blank level0\" >&nbsp;</th>\n",
       "      <th class=\"col_heading level0 col0\" >Operation Name</th>\n",
       "      <th class=\"col_heading level0 col1\" >CVS</th>\n",
       "    </tr>\n",
       "  </thead>\n",
       "  <tbody>\n",
       "    <tr>\n",
       "      <th id=\"T_74117_level0_row0\" class=\"row_heading level0 row0\" >0</th>\n",
       "      <td id=\"T_74117_row0_col0\" class=\"data row0 col0\" >LogisticRegression</td>\n",
       "      <td id=\"T_74117_row0_col1\" class=\"data row0 col1\" >0.789349</td>\n",
       "    </tr>\n",
       "    <tr>\n",
       "      <th id=\"T_74117_level0_row1\" class=\"row_heading level0 row1\" >1</th>\n",
       "      <td id=\"T_74117_row1_col0\" class=\"data row1 col0\" >DecisionTreeClassifier</td>\n",
       "      <td id=\"T_74117_row1_col1\" class=\"data row1 col1\" >0.817911</td>\n",
       "    </tr>\n",
       "    <tr>\n",
       "      <th id=\"T_74117_level0_row2\" class=\"row_heading level0 row2\" >2</th>\n",
       "      <td id=\"T_74117_row2_col0\" class=\"data row2 col0\" >GaussianNB</td>\n",
       "      <td id=\"T_74117_row2_col1\" class=\"data row2 col1\" >0.723443</td>\n",
       "    </tr>\n",
       "    <tr>\n",
       "      <th id=\"T_74117_level0_row3\" class=\"row_heading level0 row3\" >3</th>\n",
       "      <td id=\"T_74117_row3_col0\" class=\"data row3 col0\" >RandomForestClassifier</td>\n",
       "      <td id=\"T_74117_row3_col1\" class=\"data row3 col1\" >0.821443</td>\n",
       "    </tr>\n",
       "    <tr>\n",
       "      <th id=\"T_74117_level0_row4\" class=\"row_heading level0 row4\" >4</th>\n",
       "      <td id=\"T_74117_row4_col0\" class=\"data row4 col0\" >SVC</td>\n",
       "      <td id=\"T_74117_row4_col1\" class=\"data row4 col1\" >0.811677</td>\n",
       "    </tr>\n",
       "    <tr>\n",
       "      <th id=\"T_74117_level0_row5\" class=\"row_heading level0 row5\" >5</th>\n",
       "      <td id=\"T_74117_row5_col0\" class=\"data row5 col0\" >RandomForestClassifier</td>\n",
       "      <td id=\"T_74117_row5_col1\" class=\"data row5 col1\" >0.815945</td>\n",
       "    </tr>\n",
       "  </tbody>\n",
       "</table>\n"
      ],
      "text/plain": [
       "<pandas.io.formats.style.Styler at 0x15260f160>"
      ]
     },
     "execution_count": 80,
     "metadata": {},
     "output_type": "execute_result"
    }
   ],
   "source": [
    "CrossValidationScore(operation_list)"
   ]
  },
  {
   "cell_type": "code",
   "execution_count": null,
   "id": "cb4155f0",
   "metadata": {},
   "outputs": [],
   "source": []
  }
 ],
 "metadata": {
  "kernelspec": {
   "display_name": "Python 3 (ipykernel)",
   "language": "python",
   "name": "python3"
  },
  "language_info": {
   "codemirror_mode": {
    "name": "ipython",
    "version": 3
   },
   "file_extension": ".py",
   "mimetype": "text/x-python",
   "name": "python",
   "nbconvert_exporter": "python",
   "pygments_lexer": "ipython3",
   "version": "3.9.6"
  }
 },
 "nbformat": 4,
 "nbformat_minor": 5
}
